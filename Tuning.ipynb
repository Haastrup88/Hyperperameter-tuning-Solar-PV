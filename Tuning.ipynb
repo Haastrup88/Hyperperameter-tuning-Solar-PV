{
 "cells": [
  {
   "cell_type": "code",
   "execution_count": 1,
   "id": "40d88b97",
   "metadata": {},
   "outputs": [
    {
     "name": "stderr",
     "output_type": "stream",
     "text": [
      "C:\\Users\\hp\\Documents\\Tensorflow\\tune\\lib\\site-packages\\tqdm\\auto.py:21: TqdmWarning: IProgress not found. Please update jupyter and ipywidgets. See https://ipywidgets.readthedocs.io/en/stable/user_install.html\n",
      "  from .autonotebook import tqdm as notebook_tqdm\n"
     ]
    }
   ],
   "source": [
    "from sklearn.preprocessing import StandardScaler\n",
    "from sklearn.model_selection import train_test_split\n",
    "from sklearn.metrics import r2_score\n",
    "import tensorflow as tf\n",
    "from tensorflow.keras.callbacks import TensorBoard\n",
    "\n",
    "from tensorboardX import SummaryWriter\n",
    "\n",
    "\n",
    "import pandas as pd\n",
    "import numpy as np\n",
    "import re\n",
    "\n",
    "from time import time\n",
    "import datetime\n",
    "import os\n",
    "\n",
    "import xgboost as xgb\n",
    "import optuna"
   ]
  },
  {
   "cell_type": "code",
   "execution_count": 8,
   "id": "a18cffc3",
   "metadata": {},
   "outputs": [],
   "source": [
    "data=pd.read_csv('SolarPrediction.csv')"
   ]
  },
  {
   "cell_type": "code",
   "execution_count": 9,
   "id": "e826e0c3",
   "metadata": {},
   "outputs": [
    {
     "data": {
      "text/html": [
       "<div>\n",
       "<style scoped>\n",
       "    .dataframe tbody tr th:only-of-type {\n",
       "        vertical-align: middle;\n",
       "    }\n",
       "\n",
       "    .dataframe tbody tr th {\n",
       "        vertical-align: top;\n",
       "    }\n",
       "\n",
       "    .dataframe thead th {\n",
       "        text-align: right;\n",
       "    }\n",
       "</style>\n",
       "<table border=\"1\" class=\"dataframe\">\n",
       "  <thead>\n",
       "    <tr style=\"text-align: right;\">\n",
       "      <th></th>\n",
       "      <th>UNIXTime</th>\n",
       "      <th>Data</th>\n",
       "      <th>Time</th>\n",
       "      <th>Radiation</th>\n",
       "      <th>Temperature</th>\n",
       "      <th>Pressure</th>\n",
       "      <th>Humidity</th>\n",
       "      <th>WindDirection(Degrees)</th>\n",
       "      <th>Speed</th>\n",
       "      <th>TimeSunRise</th>\n",
       "      <th>TimeSunSet</th>\n",
       "    </tr>\n",
       "  </thead>\n",
       "  <tbody>\n",
       "    <tr>\n",
       "      <th>0</th>\n",
       "      <td>1475229326</td>\n",
       "      <td>9/29/2016 12:00:00 AM</td>\n",
       "      <td>23:55:26</td>\n",
       "      <td>1.21</td>\n",
       "      <td>48</td>\n",
       "      <td>30.46</td>\n",
       "      <td>59</td>\n",
       "      <td>177.39</td>\n",
       "      <td>5.62</td>\n",
       "      <td>06:13:00</td>\n",
       "      <td>18:13:00</td>\n",
       "    </tr>\n",
       "    <tr>\n",
       "      <th>1</th>\n",
       "      <td>1475229023</td>\n",
       "      <td>9/29/2016 12:00:00 AM</td>\n",
       "      <td>23:50:23</td>\n",
       "      <td>1.21</td>\n",
       "      <td>48</td>\n",
       "      <td>30.46</td>\n",
       "      <td>58</td>\n",
       "      <td>176.78</td>\n",
       "      <td>3.37</td>\n",
       "      <td>06:13:00</td>\n",
       "      <td>18:13:00</td>\n",
       "    </tr>\n",
       "    <tr>\n",
       "      <th>2</th>\n",
       "      <td>1475228726</td>\n",
       "      <td>9/29/2016 12:00:00 AM</td>\n",
       "      <td>23:45:26</td>\n",
       "      <td>1.23</td>\n",
       "      <td>48</td>\n",
       "      <td>30.46</td>\n",
       "      <td>57</td>\n",
       "      <td>158.75</td>\n",
       "      <td>3.37</td>\n",
       "      <td>06:13:00</td>\n",
       "      <td>18:13:00</td>\n",
       "    </tr>\n",
       "    <tr>\n",
       "      <th>3</th>\n",
       "      <td>1475228421</td>\n",
       "      <td>9/29/2016 12:00:00 AM</td>\n",
       "      <td>23:40:21</td>\n",
       "      <td>1.21</td>\n",
       "      <td>48</td>\n",
       "      <td>30.46</td>\n",
       "      <td>60</td>\n",
       "      <td>137.71</td>\n",
       "      <td>3.37</td>\n",
       "      <td>06:13:00</td>\n",
       "      <td>18:13:00</td>\n",
       "    </tr>\n",
       "    <tr>\n",
       "      <th>4</th>\n",
       "      <td>1475228124</td>\n",
       "      <td>9/29/2016 12:00:00 AM</td>\n",
       "      <td>23:35:24</td>\n",
       "      <td>1.17</td>\n",
       "      <td>48</td>\n",
       "      <td>30.46</td>\n",
       "      <td>62</td>\n",
       "      <td>104.95</td>\n",
       "      <td>5.62</td>\n",
       "      <td>06:13:00</td>\n",
       "      <td>18:13:00</td>\n",
       "    </tr>\n",
       "  </tbody>\n",
       "</table>\n",
       "</div>"
      ],
      "text/plain": [
       "     UNIXTime                   Data      Time  Radiation  Temperature  \\\n",
       "0  1475229326  9/29/2016 12:00:00 AM  23:55:26       1.21           48   \n",
       "1  1475229023  9/29/2016 12:00:00 AM  23:50:23       1.21           48   \n",
       "2  1475228726  9/29/2016 12:00:00 AM  23:45:26       1.23           48   \n",
       "3  1475228421  9/29/2016 12:00:00 AM  23:40:21       1.21           48   \n",
       "4  1475228124  9/29/2016 12:00:00 AM  23:35:24       1.17           48   \n",
       "\n",
       "   Pressure  Humidity  WindDirection(Degrees)  Speed TimeSunRise TimeSunSet  \n",
       "0     30.46        59                  177.39   5.62    06:13:00   18:13:00  \n",
       "1     30.46        58                  176.78   3.37    06:13:00   18:13:00  \n",
       "2     30.46        57                  158.75   3.37    06:13:00   18:13:00  \n",
       "3     30.46        60                  137.71   3.37    06:13:00   18:13:00  \n",
       "4     30.46        62                  104.95   5.62    06:13:00   18:13:00  "
      ]
     },
     "execution_count": 9,
     "metadata": {},
     "output_type": "execute_result"
    }
   ],
   "source": [
    "data.head()"
   ]
  },
  {
   "cell_type": "code",
   "execution_count": 10,
   "id": "e56a9120",
   "metadata": {},
   "outputs": [
    {
     "name": "stdout",
     "output_type": "stream",
     "text": [
      "<class 'pandas.core.frame.DataFrame'>\n",
      "RangeIndex: 32686 entries, 0 to 32685\n",
      "Data columns (total 11 columns):\n",
      " #   Column                  Non-Null Count  Dtype  \n",
      "---  ------                  --------------  -----  \n",
      " 0   UNIXTime                32686 non-null  int64  \n",
      " 1   Data                    32686 non-null  object \n",
      " 2   Time                    32686 non-null  object \n",
      " 3   Radiation               32686 non-null  float64\n",
      " 4   Temperature             32686 non-null  int64  \n",
      " 5   Pressure                32686 non-null  float64\n",
      " 6   Humidity                32686 non-null  int64  \n",
      " 7   WindDirection(Degrees)  32686 non-null  float64\n",
      " 8   Speed                   32686 non-null  float64\n",
      " 9   TimeSunRise             32686 non-null  object \n",
      " 10  TimeSunSet              32686 non-null  object \n",
      "dtypes: float64(4), int64(3), object(4)\n",
      "memory usage: 2.7+ MB\n"
     ]
    }
   ],
   "source": [
    "data.info()"
   ]
  },
  {
   "cell_type": "markdown",
   "id": "63f52d7b",
   "metadata": {},
   "source": [
    "# DATA ENGINEERING"
   ]
  },
  {
   "cell_type": "code",
   "execution_count": 11,
   "id": "ef33969d",
   "metadata": {},
   "outputs": [],
   "source": [
    "#Data Feature\n",
    "data['Month']=data['Data'].apply(lambda x:re.search(r'^\\d+',x).group(0)).astype(np.int64)\n",
    "data['Day']=data['Data'].apply(lambda x:re.search(r'(?<=\\/)\\d+(?=\\/)',x).group(0)).astype(np.int64)\n",
    "data['Year']=data['Data'].apply(lambda x:re.search(r'(?<=\\/)\\d+(?=\\s)',x).group(0)).astype(np.int64)\n",
    "data=data.drop('Data',axis=1)"
   ]
  },
  {
   "cell_type": "code",
   "execution_count": 12,
   "id": "d189416f",
   "metadata": {},
   "outputs": [
    {
     "data": {
      "text/html": [
       "<div>\n",
       "<style scoped>\n",
       "    .dataframe tbody tr th:only-of-type {\n",
       "        vertical-align: middle;\n",
       "    }\n",
       "\n",
       "    .dataframe tbody tr th {\n",
       "        vertical-align: top;\n",
       "    }\n",
       "\n",
       "    .dataframe thead th {\n",
       "        text-align: right;\n",
       "    }\n",
       "</style>\n",
       "<table border=\"1\" class=\"dataframe\">\n",
       "  <thead>\n",
       "    <tr style=\"text-align: right;\">\n",
       "      <th></th>\n",
       "      <th>UNIXTime</th>\n",
       "      <th>Time</th>\n",
       "      <th>Radiation</th>\n",
       "      <th>Temperature</th>\n",
       "      <th>Pressure</th>\n",
       "      <th>Humidity</th>\n",
       "      <th>WindDirection(Degrees)</th>\n",
       "      <th>Speed</th>\n",
       "      <th>TimeSunRise</th>\n",
       "      <th>TimeSunSet</th>\n",
       "      <th>Month</th>\n",
       "      <th>Day</th>\n",
       "      <th>Year</th>\n",
       "    </tr>\n",
       "  </thead>\n",
       "  <tbody>\n",
       "    <tr>\n",
       "      <th>0</th>\n",
       "      <td>1475229326</td>\n",
       "      <td>23:55:26</td>\n",
       "      <td>1.21</td>\n",
       "      <td>48</td>\n",
       "      <td>30.46</td>\n",
       "      <td>59</td>\n",
       "      <td>177.39</td>\n",
       "      <td>5.62</td>\n",
       "      <td>06:13:00</td>\n",
       "      <td>18:13:00</td>\n",
       "      <td>9</td>\n",
       "      <td>29</td>\n",
       "      <td>2016</td>\n",
       "    </tr>\n",
       "    <tr>\n",
       "      <th>1</th>\n",
       "      <td>1475229023</td>\n",
       "      <td>23:50:23</td>\n",
       "      <td>1.21</td>\n",
       "      <td>48</td>\n",
       "      <td>30.46</td>\n",
       "      <td>58</td>\n",
       "      <td>176.78</td>\n",
       "      <td>3.37</td>\n",
       "      <td>06:13:00</td>\n",
       "      <td>18:13:00</td>\n",
       "      <td>9</td>\n",
       "      <td>29</td>\n",
       "      <td>2016</td>\n",
       "    </tr>\n",
       "    <tr>\n",
       "      <th>2</th>\n",
       "      <td>1475228726</td>\n",
       "      <td>23:45:26</td>\n",
       "      <td>1.23</td>\n",
       "      <td>48</td>\n",
       "      <td>30.46</td>\n",
       "      <td>57</td>\n",
       "      <td>158.75</td>\n",
       "      <td>3.37</td>\n",
       "      <td>06:13:00</td>\n",
       "      <td>18:13:00</td>\n",
       "      <td>9</td>\n",
       "      <td>29</td>\n",
       "      <td>2016</td>\n",
       "    </tr>\n",
       "    <tr>\n",
       "      <th>3</th>\n",
       "      <td>1475228421</td>\n",
       "      <td>23:40:21</td>\n",
       "      <td>1.21</td>\n",
       "      <td>48</td>\n",
       "      <td>30.46</td>\n",
       "      <td>60</td>\n",
       "      <td>137.71</td>\n",
       "      <td>3.37</td>\n",
       "      <td>06:13:00</td>\n",
       "      <td>18:13:00</td>\n",
       "      <td>9</td>\n",
       "      <td>29</td>\n",
       "      <td>2016</td>\n",
       "    </tr>\n",
       "    <tr>\n",
       "      <th>4</th>\n",
       "      <td>1475228124</td>\n",
       "      <td>23:35:24</td>\n",
       "      <td>1.17</td>\n",
       "      <td>48</td>\n",
       "      <td>30.46</td>\n",
       "      <td>62</td>\n",
       "      <td>104.95</td>\n",
       "      <td>5.62</td>\n",
       "      <td>06:13:00</td>\n",
       "      <td>18:13:00</td>\n",
       "      <td>9</td>\n",
       "      <td>29</td>\n",
       "      <td>2016</td>\n",
       "    </tr>\n",
       "  </tbody>\n",
       "</table>\n",
       "</div>"
      ],
      "text/plain": [
       "     UNIXTime      Time  Radiation  Temperature  Pressure  Humidity  \\\n",
       "0  1475229326  23:55:26       1.21           48     30.46        59   \n",
       "1  1475229023  23:50:23       1.21           48     30.46        58   \n",
       "2  1475228726  23:45:26       1.23           48     30.46        57   \n",
       "3  1475228421  23:40:21       1.21           48     30.46        60   \n",
       "4  1475228124  23:35:24       1.17           48     30.46        62   \n",
       "\n",
       "   WindDirection(Degrees)  Speed TimeSunRise TimeSunSet  Month  Day  Year  \n",
       "0                  177.39   5.62    06:13:00   18:13:00      9   29  2016  \n",
       "1                  176.78   3.37    06:13:00   18:13:00      9   29  2016  \n",
       "2                  158.75   3.37    06:13:00   18:13:00      9   29  2016  \n",
       "3                  137.71   3.37    06:13:00   18:13:00      9   29  2016  \n",
       "4                  104.95   5.62    06:13:00   18:13:00      9   29  2016  "
      ]
     },
     "execution_count": 12,
     "metadata": {},
     "output_type": "execute_result"
    }
   ],
   "source": [
    "data.head()"
   ]
  },
  {
   "cell_type": "code",
   "execution_count": 13,
   "id": "c99b8405",
   "metadata": {},
   "outputs": [
    {
     "name": "stdout",
     "output_type": "stream",
     "text": [
      "<class 'pandas.core.frame.DataFrame'>\n",
      "RangeIndex: 32686 entries, 0 to 32685\n",
      "Data columns (total 13 columns):\n",
      " #   Column                  Non-Null Count  Dtype  \n",
      "---  ------                  --------------  -----  \n",
      " 0   UNIXTime                32686 non-null  int64  \n",
      " 1   Time                    32686 non-null  object \n",
      " 2   Radiation               32686 non-null  float64\n",
      " 3   Temperature             32686 non-null  int64  \n",
      " 4   Pressure                32686 non-null  float64\n",
      " 5   Humidity                32686 non-null  int64  \n",
      " 6   WindDirection(Degrees)  32686 non-null  float64\n",
      " 7   Speed                   32686 non-null  float64\n",
      " 8   TimeSunRise             32686 non-null  object \n",
      " 9   TimeSunSet              32686 non-null  object \n",
      " 10  Month                   32686 non-null  int64  \n",
      " 11  Day                     32686 non-null  int64  \n",
      " 12  Year                    32686 non-null  int64  \n",
      "dtypes: float64(4), int64(6), object(3)\n",
      "memory usage: 3.2+ MB\n"
     ]
    }
   ],
   "source": [
    "data.info()"
   ]
  },
  {
   "cell_type": "code",
   "execution_count": 14,
   "id": "3af07c18",
   "metadata": {},
   "outputs": [],
   "source": [
    "#Time Feature\n",
    "data['Hour']=data['Time'].apply(lambda x:re.search(r'(^\\d+)',x).group(0)).astype(np.int64)\n",
    "data['Minute']=data['Time'].apply(lambda x:re.search(r'(?<=\\:)\\d+(?=\\:)',x).group(0)).astype(np.int64)\n",
    "data['Second']=data['Time'].apply(lambda x:re.search(r'\\d+$',x).group(0)).astype(np.int64)\n",
    "data=data.drop('Time',axis=1)"
   ]
  },
  {
   "cell_type": "code",
   "execution_count": 15,
   "id": "f6336477",
   "metadata": {},
   "outputs": [
    {
     "data": {
      "text/html": [
       "<div>\n",
       "<style scoped>\n",
       "    .dataframe tbody tr th:only-of-type {\n",
       "        vertical-align: middle;\n",
       "    }\n",
       "\n",
       "    .dataframe tbody tr th {\n",
       "        vertical-align: top;\n",
       "    }\n",
       "\n",
       "    .dataframe thead th {\n",
       "        text-align: right;\n",
       "    }\n",
       "</style>\n",
       "<table border=\"1\" class=\"dataframe\">\n",
       "  <thead>\n",
       "    <tr style=\"text-align: right;\">\n",
       "      <th></th>\n",
       "      <th>UNIXTime</th>\n",
       "      <th>Radiation</th>\n",
       "      <th>Temperature</th>\n",
       "      <th>Pressure</th>\n",
       "      <th>Humidity</th>\n",
       "      <th>WindDirection(Degrees)</th>\n",
       "      <th>Speed</th>\n",
       "      <th>TimeSunRise</th>\n",
       "      <th>TimeSunSet</th>\n",
       "      <th>Month</th>\n",
       "      <th>Day</th>\n",
       "      <th>Year</th>\n",
       "      <th>Hour</th>\n",
       "      <th>Minute</th>\n",
       "      <th>Second</th>\n",
       "    </tr>\n",
       "  </thead>\n",
       "  <tbody>\n",
       "    <tr>\n",
       "      <th>0</th>\n",
       "      <td>1475229326</td>\n",
       "      <td>1.21</td>\n",
       "      <td>48</td>\n",
       "      <td>30.46</td>\n",
       "      <td>59</td>\n",
       "      <td>177.39</td>\n",
       "      <td>5.62</td>\n",
       "      <td>06:13:00</td>\n",
       "      <td>18:13:00</td>\n",
       "      <td>9</td>\n",
       "      <td>29</td>\n",
       "      <td>2016</td>\n",
       "      <td>23</td>\n",
       "      <td>55</td>\n",
       "      <td>26</td>\n",
       "    </tr>\n",
       "    <tr>\n",
       "      <th>1</th>\n",
       "      <td>1475229023</td>\n",
       "      <td>1.21</td>\n",
       "      <td>48</td>\n",
       "      <td>30.46</td>\n",
       "      <td>58</td>\n",
       "      <td>176.78</td>\n",
       "      <td>3.37</td>\n",
       "      <td>06:13:00</td>\n",
       "      <td>18:13:00</td>\n",
       "      <td>9</td>\n",
       "      <td>29</td>\n",
       "      <td>2016</td>\n",
       "      <td>23</td>\n",
       "      <td>50</td>\n",
       "      <td>23</td>\n",
       "    </tr>\n",
       "    <tr>\n",
       "      <th>2</th>\n",
       "      <td>1475228726</td>\n",
       "      <td>1.23</td>\n",
       "      <td>48</td>\n",
       "      <td>30.46</td>\n",
       "      <td>57</td>\n",
       "      <td>158.75</td>\n",
       "      <td>3.37</td>\n",
       "      <td>06:13:00</td>\n",
       "      <td>18:13:00</td>\n",
       "      <td>9</td>\n",
       "      <td>29</td>\n",
       "      <td>2016</td>\n",
       "      <td>23</td>\n",
       "      <td>45</td>\n",
       "      <td>26</td>\n",
       "    </tr>\n",
       "    <tr>\n",
       "      <th>3</th>\n",
       "      <td>1475228421</td>\n",
       "      <td>1.21</td>\n",
       "      <td>48</td>\n",
       "      <td>30.46</td>\n",
       "      <td>60</td>\n",
       "      <td>137.71</td>\n",
       "      <td>3.37</td>\n",
       "      <td>06:13:00</td>\n",
       "      <td>18:13:00</td>\n",
       "      <td>9</td>\n",
       "      <td>29</td>\n",
       "      <td>2016</td>\n",
       "      <td>23</td>\n",
       "      <td>40</td>\n",
       "      <td>21</td>\n",
       "    </tr>\n",
       "    <tr>\n",
       "      <th>4</th>\n",
       "      <td>1475228124</td>\n",
       "      <td>1.17</td>\n",
       "      <td>48</td>\n",
       "      <td>30.46</td>\n",
       "      <td>62</td>\n",
       "      <td>104.95</td>\n",
       "      <td>5.62</td>\n",
       "      <td>06:13:00</td>\n",
       "      <td>18:13:00</td>\n",
       "      <td>9</td>\n",
       "      <td>29</td>\n",
       "      <td>2016</td>\n",
       "      <td>23</td>\n",
       "      <td>35</td>\n",
       "      <td>24</td>\n",
       "    </tr>\n",
       "  </tbody>\n",
       "</table>\n",
       "</div>"
      ],
      "text/plain": [
       "     UNIXTime  Radiation  Temperature  Pressure  Humidity  \\\n",
       "0  1475229326       1.21           48     30.46        59   \n",
       "1  1475229023       1.21           48     30.46        58   \n",
       "2  1475228726       1.23           48     30.46        57   \n",
       "3  1475228421       1.21           48     30.46        60   \n",
       "4  1475228124       1.17           48     30.46        62   \n",
       "\n",
       "   WindDirection(Degrees)  Speed TimeSunRise TimeSunSet  Month  Day  Year  \\\n",
       "0                  177.39   5.62    06:13:00   18:13:00      9   29  2016   \n",
       "1                  176.78   3.37    06:13:00   18:13:00      9   29  2016   \n",
       "2                  158.75   3.37    06:13:00   18:13:00      9   29  2016   \n",
       "3                  137.71   3.37    06:13:00   18:13:00      9   29  2016   \n",
       "4                  104.95   5.62    06:13:00   18:13:00      9   29  2016   \n",
       "\n",
       "   Hour  Minute  Second  \n",
       "0    23      55      26  \n",
       "1    23      50      23  \n",
       "2    23      45      26  \n",
       "3    23      40      21  \n",
       "4    23      35      24  "
      ]
     },
     "execution_count": 15,
     "metadata": {},
     "output_type": "execute_result"
    }
   ],
   "source": [
    "data.head()"
   ]
  },
  {
   "cell_type": "code",
   "execution_count": 16,
   "id": "06f4a9bd",
   "metadata": {},
   "outputs": [
    {
     "name": "stdout",
     "output_type": "stream",
     "text": [
      "<class 'pandas.core.frame.DataFrame'>\n",
      "RangeIndex: 32686 entries, 0 to 32685\n",
      "Data columns (total 15 columns):\n",
      " #   Column                  Non-Null Count  Dtype  \n",
      "---  ------                  --------------  -----  \n",
      " 0   UNIXTime                32686 non-null  int64  \n",
      " 1   Radiation               32686 non-null  float64\n",
      " 2   Temperature             32686 non-null  int64  \n",
      " 3   Pressure                32686 non-null  float64\n",
      " 4   Humidity                32686 non-null  int64  \n",
      " 5   WindDirection(Degrees)  32686 non-null  float64\n",
      " 6   Speed                   32686 non-null  float64\n",
      " 7   TimeSunRise             32686 non-null  object \n",
      " 8   TimeSunSet              32686 non-null  object \n",
      " 9   Month                   32686 non-null  int64  \n",
      " 10  Day                     32686 non-null  int64  \n",
      " 11  Year                    32686 non-null  int64  \n",
      " 12  Hour                    32686 non-null  int64  \n",
      " 13  Minute                  32686 non-null  int64  \n",
      " 14  Second                  32686 non-null  int64  \n",
      "dtypes: float64(4), int64(9), object(2)\n",
      "memory usage: 3.7+ MB\n"
     ]
    }
   ],
   "source": [
    "data.info()"
   ]
  },
  {
   "cell_type": "code",
   "execution_count": 17,
   "id": "8743cf56",
   "metadata": {},
   "outputs": [],
   "source": [
    "#Sunrise Feature\n",
    "data['Sunrise_Hour']=data['TimeSunRise'].apply(lambda x:re.search(r'(^\\d+)',x).group(0)).astype(np.int64)\n",
    "data['Sunrise_Minute']=data['TimeSunRise'].apply(lambda x:re.search(r'(?<=\\:)\\d+(?=\\:)',x).group(0)).astype(np.int64)\n",
    "data=data.drop('TimeSunRise',axis=1)"
   ]
  },
  {
   "cell_type": "code",
   "execution_count": 18,
   "id": "ed63658a",
   "metadata": {},
   "outputs": [
    {
     "data": {
      "text/html": [
       "<div>\n",
       "<style scoped>\n",
       "    .dataframe tbody tr th:only-of-type {\n",
       "        vertical-align: middle;\n",
       "    }\n",
       "\n",
       "    .dataframe tbody tr th {\n",
       "        vertical-align: top;\n",
       "    }\n",
       "\n",
       "    .dataframe thead th {\n",
       "        text-align: right;\n",
       "    }\n",
       "</style>\n",
       "<table border=\"1\" class=\"dataframe\">\n",
       "  <thead>\n",
       "    <tr style=\"text-align: right;\">\n",
       "      <th></th>\n",
       "      <th>UNIXTime</th>\n",
       "      <th>Radiation</th>\n",
       "      <th>Temperature</th>\n",
       "      <th>Pressure</th>\n",
       "      <th>Humidity</th>\n",
       "      <th>WindDirection(Degrees)</th>\n",
       "      <th>Speed</th>\n",
       "      <th>TimeSunSet</th>\n",
       "      <th>Month</th>\n",
       "      <th>Day</th>\n",
       "      <th>Year</th>\n",
       "      <th>Hour</th>\n",
       "      <th>Minute</th>\n",
       "      <th>Second</th>\n",
       "      <th>Sunrise_Hour</th>\n",
       "      <th>Sunrise_Minute</th>\n",
       "    </tr>\n",
       "  </thead>\n",
       "  <tbody>\n",
       "    <tr>\n",
       "      <th>0</th>\n",
       "      <td>1475229326</td>\n",
       "      <td>1.21</td>\n",
       "      <td>48</td>\n",
       "      <td>30.46</td>\n",
       "      <td>59</td>\n",
       "      <td>177.39</td>\n",
       "      <td>5.62</td>\n",
       "      <td>18:13:00</td>\n",
       "      <td>9</td>\n",
       "      <td>29</td>\n",
       "      <td>2016</td>\n",
       "      <td>23</td>\n",
       "      <td>55</td>\n",
       "      <td>26</td>\n",
       "      <td>6</td>\n",
       "      <td>13</td>\n",
       "    </tr>\n",
       "    <tr>\n",
       "      <th>1</th>\n",
       "      <td>1475229023</td>\n",
       "      <td>1.21</td>\n",
       "      <td>48</td>\n",
       "      <td>30.46</td>\n",
       "      <td>58</td>\n",
       "      <td>176.78</td>\n",
       "      <td>3.37</td>\n",
       "      <td>18:13:00</td>\n",
       "      <td>9</td>\n",
       "      <td>29</td>\n",
       "      <td>2016</td>\n",
       "      <td>23</td>\n",
       "      <td>50</td>\n",
       "      <td>23</td>\n",
       "      <td>6</td>\n",
       "      <td>13</td>\n",
       "    </tr>\n",
       "    <tr>\n",
       "      <th>2</th>\n",
       "      <td>1475228726</td>\n",
       "      <td>1.23</td>\n",
       "      <td>48</td>\n",
       "      <td>30.46</td>\n",
       "      <td>57</td>\n",
       "      <td>158.75</td>\n",
       "      <td>3.37</td>\n",
       "      <td>18:13:00</td>\n",
       "      <td>9</td>\n",
       "      <td>29</td>\n",
       "      <td>2016</td>\n",
       "      <td>23</td>\n",
       "      <td>45</td>\n",
       "      <td>26</td>\n",
       "      <td>6</td>\n",
       "      <td>13</td>\n",
       "    </tr>\n",
       "    <tr>\n",
       "      <th>3</th>\n",
       "      <td>1475228421</td>\n",
       "      <td>1.21</td>\n",
       "      <td>48</td>\n",
       "      <td>30.46</td>\n",
       "      <td>60</td>\n",
       "      <td>137.71</td>\n",
       "      <td>3.37</td>\n",
       "      <td>18:13:00</td>\n",
       "      <td>9</td>\n",
       "      <td>29</td>\n",
       "      <td>2016</td>\n",
       "      <td>23</td>\n",
       "      <td>40</td>\n",
       "      <td>21</td>\n",
       "      <td>6</td>\n",
       "      <td>13</td>\n",
       "    </tr>\n",
       "    <tr>\n",
       "      <th>4</th>\n",
       "      <td>1475228124</td>\n",
       "      <td>1.17</td>\n",
       "      <td>48</td>\n",
       "      <td>30.46</td>\n",
       "      <td>62</td>\n",
       "      <td>104.95</td>\n",
       "      <td>5.62</td>\n",
       "      <td>18:13:00</td>\n",
       "      <td>9</td>\n",
       "      <td>29</td>\n",
       "      <td>2016</td>\n",
       "      <td>23</td>\n",
       "      <td>35</td>\n",
       "      <td>24</td>\n",
       "      <td>6</td>\n",
       "      <td>13</td>\n",
       "    </tr>\n",
       "  </tbody>\n",
       "</table>\n",
       "</div>"
      ],
      "text/plain": [
       "     UNIXTime  Radiation  Temperature  Pressure  Humidity  \\\n",
       "0  1475229326       1.21           48     30.46        59   \n",
       "1  1475229023       1.21           48     30.46        58   \n",
       "2  1475228726       1.23           48     30.46        57   \n",
       "3  1475228421       1.21           48     30.46        60   \n",
       "4  1475228124       1.17           48     30.46        62   \n",
       "\n",
       "   WindDirection(Degrees)  Speed TimeSunSet  Month  Day  Year  Hour  Minute  \\\n",
       "0                  177.39   5.62   18:13:00      9   29  2016    23      55   \n",
       "1                  176.78   3.37   18:13:00      9   29  2016    23      50   \n",
       "2                  158.75   3.37   18:13:00      9   29  2016    23      45   \n",
       "3                  137.71   3.37   18:13:00      9   29  2016    23      40   \n",
       "4                  104.95   5.62   18:13:00      9   29  2016    23      35   \n",
       "\n",
       "   Second  Sunrise_Hour  Sunrise_Minute  \n",
       "0      26             6              13  \n",
       "1      23             6              13  \n",
       "2      26             6              13  \n",
       "3      21             6              13  \n",
       "4      24             6              13  "
      ]
     },
     "execution_count": 18,
     "metadata": {},
     "output_type": "execute_result"
    }
   ],
   "source": [
    "data.head()\n"
   ]
  },
  {
   "cell_type": "code",
   "execution_count": 19,
   "id": "ff23aa68",
   "metadata": {},
   "outputs": [],
   "source": [
    "#Sunset feature\n",
    "data['Sunset_Hour']=data['TimeSunSet'].apply(lambda x:re.search(r'(^\\d+)',x).group(0)).astype(np.int64)\n",
    "data['Sunset_Minute']=data['TimeSunSet'].apply(lambda x:re.search(r'(?<=\\:)\\d+(?=\\:)',x).group(0)).astype(np.int64)\n",
    "data=data.drop('TimeSunSet',axis=1)"
   ]
  },
  {
   "cell_type": "code",
   "execution_count": 20,
   "id": "a2850528",
   "metadata": {},
   "outputs": [
    {
     "data": {
      "text/html": [
       "<div>\n",
       "<style scoped>\n",
       "    .dataframe tbody tr th:only-of-type {\n",
       "        vertical-align: middle;\n",
       "    }\n",
       "\n",
       "    .dataframe tbody tr th {\n",
       "        vertical-align: top;\n",
       "    }\n",
       "\n",
       "    .dataframe thead th {\n",
       "        text-align: right;\n",
       "    }\n",
       "</style>\n",
       "<table border=\"1\" class=\"dataframe\">\n",
       "  <thead>\n",
       "    <tr style=\"text-align: right;\">\n",
       "      <th></th>\n",
       "      <th>UNIXTime</th>\n",
       "      <th>Radiation</th>\n",
       "      <th>Temperature</th>\n",
       "      <th>Pressure</th>\n",
       "      <th>Humidity</th>\n",
       "      <th>WindDirection(Degrees)</th>\n",
       "      <th>Speed</th>\n",
       "      <th>Month</th>\n",
       "      <th>Day</th>\n",
       "      <th>Year</th>\n",
       "      <th>Hour</th>\n",
       "      <th>Minute</th>\n",
       "      <th>Second</th>\n",
       "      <th>Sunrise_Hour</th>\n",
       "      <th>Sunrise_Minute</th>\n",
       "      <th>Sunset_Hour</th>\n",
       "      <th>Sunset_Minute</th>\n",
       "    </tr>\n",
       "  </thead>\n",
       "  <tbody>\n",
       "    <tr>\n",
       "      <th>0</th>\n",
       "      <td>1475229326</td>\n",
       "      <td>1.21</td>\n",
       "      <td>48</td>\n",
       "      <td>30.46</td>\n",
       "      <td>59</td>\n",
       "      <td>177.39</td>\n",
       "      <td>5.62</td>\n",
       "      <td>9</td>\n",
       "      <td>29</td>\n",
       "      <td>2016</td>\n",
       "      <td>23</td>\n",
       "      <td>55</td>\n",
       "      <td>26</td>\n",
       "      <td>6</td>\n",
       "      <td>13</td>\n",
       "      <td>18</td>\n",
       "      <td>13</td>\n",
       "    </tr>\n",
       "    <tr>\n",
       "      <th>1</th>\n",
       "      <td>1475229023</td>\n",
       "      <td>1.21</td>\n",
       "      <td>48</td>\n",
       "      <td>30.46</td>\n",
       "      <td>58</td>\n",
       "      <td>176.78</td>\n",
       "      <td>3.37</td>\n",
       "      <td>9</td>\n",
       "      <td>29</td>\n",
       "      <td>2016</td>\n",
       "      <td>23</td>\n",
       "      <td>50</td>\n",
       "      <td>23</td>\n",
       "      <td>6</td>\n",
       "      <td>13</td>\n",
       "      <td>18</td>\n",
       "      <td>13</td>\n",
       "    </tr>\n",
       "    <tr>\n",
       "      <th>2</th>\n",
       "      <td>1475228726</td>\n",
       "      <td>1.23</td>\n",
       "      <td>48</td>\n",
       "      <td>30.46</td>\n",
       "      <td>57</td>\n",
       "      <td>158.75</td>\n",
       "      <td>3.37</td>\n",
       "      <td>9</td>\n",
       "      <td>29</td>\n",
       "      <td>2016</td>\n",
       "      <td>23</td>\n",
       "      <td>45</td>\n",
       "      <td>26</td>\n",
       "      <td>6</td>\n",
       "      <td>13</td>\n",
       "      <td>18</td>\n",
       "      <td>13</td>\n",
       "    </tr>\n",
       "    <tr>\n",
       "      <th>3</th>\n",
       "      <td>1475228421</td>\n",
       "      <td>1.21</td>\n",
       "      <td>48</td>\n",
       "      <td>30.46</td>\n",
       "      <td>60</td>\n",
       "      <td>137.71</td>\n",
       "      <td>3.37</td>\n",
       "      <td>9</td>\n",
       "      <td>29</td>\n",
       "      <td>2016</td>\n",
       "      <td>23</td>\n",
       "      <td>40</td>\n",
       "      <td>21</td>\n",
       "      <td>6</td>\n",
       "      <td>13</td>\n",
       "      <td>18</td>\n",
       "      <td>13</td>\n",
       "    </tr>\n",
       "    <tr>\n",
       "      <th>4</th>\n",
       "      <td>1475228124</td>\n",
       "      <td>1.17</td>\n",
       "      <td>48</td>\n",
       "      <td>30.46</td>\n",
       "      <td>62</td>\n",
       "      <td>104.95</td>\n",
       "      <td>5.62</td>\n",
       "      <td>9</td>\n",
       "      <td>29</td>\n",
       "      <td>2016</td>\n",
       "      <td>23</td>\n",
       "      <td>35</td>\n",
       "      <td>24</td>\n",
       "      <td>6</td>\n",
       "      <td>13</td>\n",
       "      <td>18</td>\n",
       "      <td>13</td>\n",
       "    </tr>\n",
       "  </tbody>\n",
       "</table>\n",
       "</div>"
      ],
      "text/plain": [
       "     UNIXTime  Radiation  Temperature  Pressure  Humidity  \\\n",
       "0  1475229326       1.21           48     30.46        59   \n",
       "1  1475229023       1.21           48     30.46        58   \n",
       "2  1475228726       1.23           48     30.46        57   \n",
       "3  1475228421       1.21           48     30.46        60   \n",
       "4  1475228124       1.17           48     30.46        62   \n",
       "\n",
       "   WindDirection(Degrees)  Speed  Month  Day  Year  Hour  Minute  Second  \\\n",
       "0                  177.39   5.62      9   29  2016    23      55      26   \n",
       "1                  176.78   3.37      9   29  2016    23      50      23   \n",
       "2                  158.75   3.37      9   29  2016    23      45      26   \n",
       "3                  137.71   3.37      9   29  2016    23      40      21   \n",
       "4                  104.95   5.62      9   29  2016    23      35      24   \n",
       "\n",
       "   Sunrise_Hour  Sunrise_Minute  Sunset_Hour  Sunset_Minute  \n",
       "0             6              13           18             13  \n",
       "1             6              13           18             13  \n",
       "2             6              13           18             13  \n",
       "3             6              13           18             13  \n",
       "4             6              13           18             13  "
      ]
     },
     "execution_count": 20,
     "metadata": {},
     "output_type": "execute_result"
    }
   ],
   "source": [
    "data.head()"
   ]
  },
  {
   "cell_type": "code",
   "execution_count": 21,
   "id": "2266a3ca",
   "metadata": {},
   "outputs": [
    {
     "name": "stdout",
     "output_type": "stream",
     "text": [
      "<class 'pandas.core.frame.DataFrame'>\n",
      "RangeIndex: 32686 entries, 0 to 32685\n",
      "Data columns (total 17 columns):\n",
      " #   Column                  Non-Null Count  Dtype  \n",
      "---  ------                  --------------  -----  \n",
      " 0   UNIXTime                32686 non-null  int64  \n",
      " 1   Radiation               32686 non-null  float64\n",
      " 2   Temperature             32686 non-null  int64  \n",
      " 3   Pressure                32686 non-null  float64\n",
      " 4   Humidity                32686 non-null  int64  \n",
      " 5   WindDirection(Degrees)  32686 non-null  float64\n",
      " 6   Speed                   32686 non-null  float64\n",
      " 7   Month                   32686 non-null  int64  \n",
      " 8   Day                     32686 non-null  int64  \n",
      " 9   Year                    32686 non-null  int64  \n",
      " 10  Hour                    32686 non-null  int64  \n",
      " 11  Minute                  32686 non-null  int64  \n",
      " 12  Second                  32686 non-null  int64  \n",
      " 13  Sunrise_Hour            32686 non-null  int64  \n",
      " 14  Sunrise_Minute          32686 non-null  int64  \n",
      " 15  Sunset_Hour             32686 non-null  int64  \n",
      " 16  Sunset_Minute           32686 non-null  int64  \n",
      "dtypes: float64(4), int64(13)\n",
      "memory usage: 4.2 MB\n"
     ]
    }
   ],
   "source": [
    "data.info()"
   ]
  },
  {
   "cell_type": "code",
   "execution_count": 22,
   "id": "b19ec201",
   "metadata": {},
   "outputs": [
    {
     "data": {
      "text/plain": [
       "UNIXTime                    int64\n",
       "Radiation                 float64\n",
       "Temperature                 int64\n",
       "Pressure                  float64\n",
       "Humidity                    int64\n",
       "WindDirection(Degrees)    float64\n",
       "Speed                     float64\n",
       "Month                       int64\n",
       "Day                         int64\n",
       "Year                        int64\n",
       "Hour                        int64\n",
       "Minute                      int64\n",
       "Second                      int64\n",
       "Sunrise_Hour                int64\n",
       "Sunrise_Minute              int64\n",
       "Sunset_Hour                 int64\n",
       "Sunset_Minute               int64\n",
       "dtype: object"
      ]
     },
     "execution_count": 22,
     "metadata": {},
     "output_type": "execute_result"
    }
   ],
   "source": [
    "data.dtypes"
   ]
  },
  {
   "cell_type": "code",
   "execution_count": 23,
   "id": "a8238ed1",
   "metadata": {
    "scrolled": false
   },
   "outputs": [
    {
     "data": {
      "text/html": [
       "<div>\n",
       "<style scoped>\n",
       "    .dataframe tbody tr th:only-of-type {\n",
       "        vertical-align: middle;\n",
       "    }\n",
       "\n",
       "    .dataframe tbody tr th {\n",
       "        vertical-align: top;\n",
       "    }\n",
       "\n",
       "    .dataframe thead th {\n",
       "        text-align: right;\n",
       "    }\n",
       "</style>\n",
       "<table border=\"1\" class=\"dataframe\">\n",
       "  <thead>\n",
       "    <tr style=\"text-align: right;\">\n",
       "      <th></th>\n",
       "      <th>UNIXTime</th>\n",
       "      <th>Radiation</th>\n",
       "      <th>Temperature</th>\n",
       "      <th>Pressure</th>\n",
       "      <th>Humidity</th>\n",
       "      <th>WindDirection(Degrees)</th>\n",
       "      <th>Speed</th>\n",
       "      <th>Month</th>\n",
       "      <th>Day</th>\n",
       "      <th>Hour</th>\n",
       "      <th>Minute</th>\n",
       "      <th>Second</th>\n",
       "      <th>Sunrise_Hour</th>\n",
       "      <th>Sunrise_Minute</th>\n",
       "      <th>Sunset_Hour</th>\n",
       "      <th>Sunset_Minute</th>\n",
       "    </tr>\n",
       "  </thead>\n",
       "  <tbody>\n",
       "    <tr>\n",
       "      <th>0</th>\n",
       "      <td>1475229326</td>\n",
       "      <td>1.21</td>\n",
       "      <td>48</td>\n",
       "      <td>30.46</td>\n",
       "      <td>59</td>\n",
       "      <td>177.39</td>\n",
       "      <td>5.62</td>\n",
       "      <td>9</td>\n",
       "      <td>29</td>\n",
       "      <td>23</td>\n",
       "      <td>55</td>\n",
       "      <td>26</td>\n",
       "      <td>6</td>\n",
       "      <td>13</td>\n",
       "      <td>18</td>\n",
       "      <td>13</td>\n",
       "    </tr>\n",
       "    <tr>\n",
       "      <th>1</th>\n",
       "      <td>1475229023</td>\n",
       "      <td>1.21</td>\n",
       "      <td>48</td>\n",
       "      <td>30.46</td>\n",
       "      <td>58</td>\n",
       "      <td>176.78</td>\n",
       "      <td>3.37</td>\n",
       "      <td>9</td>\n",
       "      <td>29</td>\n",
       "      <td>23</td>\n",
       "      <td>50</td>\n",
       "      <td>23</td>\n",
       "      <td>6</td>\n",
       "      <td>13</td>\n",
       "      <td>18</td>\n",
       "      <td>13</td>\n",
       "    </tr>\n",
       "    <tr>\n",
       "      <th>2</th>\n",
       "      <td>1475228726</td>\n",
       "      <td>1.23</td>\n",
       "      <td>48</td>\n",
       "      <td>30.46</td>\n",
       "      <td>57</td>\n",
       "      <td>158.75</td>\n",
       "      <td>3.37</td>\n",
       "      <td>9</td>\n",
       "      <td>29</td>\n",
       "      <td>23</td>\n",
       "      <td>45</td>\n",
       "      <td>26</td>\n",
       "      <td>6</td>\n",
       "      <td>13</td>\n",
       "      <td>18</td>\n",
       "      <td>13</td>\n",
       "    </tr>\n",
       "    <tr>\n",
       "      <th>3</th>\n",
       "      <td>1475228421</td>\n",
       "      <td>1.21</td>\n",
       "      <td>48</td>\n",
       "      <td>30.46</td>\n",
       "      <td>60</td>\n",
       "      <td>137.71</td>\n",
       "      <td>3.37</td>\n",
       "      <td>9</td>\n",
       "      <td>29</td>\n",
       "      <td>23</td>\n",
       "      <td>40</td>\n",
       "      <td>21</td>\n",
       "      <td>6</td>\n",
       "      <td>13</td>\n",
       "      <td>18</td>\n",
       "      <td>13</td>\n",
       "    </tr>\n",
       "    <tr>\n",
       "      <th>4</th>\n",
       "      <td>1475228124</td>\n",
       "      <td>1.17</td>\n",
       "      <td>48</td>\n",
       "      <td>30.46</td>\n",
       "      <td>62</td>\n",
       "      <td>104.95</td>\n",
       "      <td>5.62</td>\n",
       "      <td>9</td>\n",
       "      <td>29</td>\n",
       "      <td>23</td>\n",
       "      <td>35</td>\n",
       "      <td>24</td>\n",
       "      <td>6</td>\n",
       "      <td>13</td>\n",
       "      <td>18</td>\n",
       "      <td>13</td>\n",
       "    </tr>\n",
       "  </tbody>\n",
       "</table>\n",
       "</div>"
      ],
      "text/plain": [
       "     UNIXTime  Radiation  Temperature  Pressure  Humidity  \\\n",
       "0  1475229326       1.21           48     30.46        59   \n",
       "1  1475229023       1.21           48     30.46        58   \n",
       "2  1475228726       1.23           48     30.46        57   \n",
       "3  1475228421       1.21           48     30.46        60   \n",
       "4  1475228124       1.17           48     30.46        62   \n",
       "\n",
       "   WindDirection(Degrees)  Speed  Month  Day  Hour  Minute  Second  \\\n",
       "0                  177.39   5.62      9   29    23      55      26   \n",
       "1                  176.78   3.37      9   29    23      50      23   \n",
       "2                  158.75   3.37      9   29    23      45      26   \n",
       "3                  137.71   3.37      9   29    23      40      21   \n",
       "4                  104.95   5.62      9   29    23      35      24   \n",
       "\n",
       "   Sunrise_Hour  Sunrise_Minute  Sunset_Hour  Sunset_Minute  \n",
       "0             6              13           18             13  \n",
       "1             6              13           18             13  \n",
       "2             6              13           18             13  \n",
       "3             6              13           18             13  \n",
       "4             6              13           18             13  "
      ]
     },
     "execution_count": 23,
     "metadata": {},
     "output_type": "execute_result"
    }
   ],
   "source": [
    "data=data.drop('Year',axis=1)\n",
    "data.head()"
   ]
  },
  {
   "cell_type": "code",
   "execution_count": 24,
   "id": "72439bdd",
   "metadata": {},
   "outputs": [
    {
     "data": {
      "text/plain": [
       "array([6], dtype=int64)"
      ]
     },
     "execution_count": 24,
     "metadata": {},
     "output_type": "execute_result"
    }
   ],
   "source": [
    "data['Sunrise_Hour'].unique()"
   ]
  },
  {
   "cell_type": "code",
   "execution_count": 25,
   "id": "c8b8123d",
   "metadata": {},
   "outputs": [],
   "source": [
    "data=data.drop('Sunrise_Hour',axis=1)"
   ]
  },
  {
   "cell_type": "code",
   "execution_count": 27,
   "id": "26bfcf6c",
   "metadata": {},
   "outputs": [],
   "source": [
    "data.to_csv('Engineered.csv',index=False)"
   ]
  },
  {
   "cell_type": "markdown",
   "id": "220ce5d5",
   "metadata": {},
   "source": [
    "# Data Scaling"
   ]
  },
  {
   "cell_type": "code",
   "execution_count": 28,
   "id": "d6dc3850",
   "metadata": {},
   "outputs": [],
   "source": [
    "x=data.drop('Radiation',axis=1).copy()\n",
    "y=data['Radiation'].copy()"
   ]
  },
  {
   "cell_type": "code",
   "execution_count": 29,
   "id": "4c1183de",
   "metadata": {},
   "outputs": [],
   "source": [
    "scaler=StandardScaler()\n",
    "\n",
    "\n",
    "x_data=scaler.fit_transform(x)"
   ]
  },
  {
   "cell_type": "code",
   "execution_count": 30,
   "id": "592c8d68",
   "metadata": {},
   "outputs": [
    {
     "data": {
      "text/html": [
       "<div>\n",
       "<style scoped>\n",
       "    .dataframe tbody tr th:only-of-type {\n",
       "        vertical-align: middle;\n",
       "    }\n",
       "\n",
       "    .dataframe tbody tr th {\n",
       "        vertical-align: top;\n",
       "    }\n",
       "\n",
       "    .dataframe thead th {\n",
       "        text-align: right;\n",
       "    }\n",
       "</style>\n",
       "<table border=\"1\" class=\"dataframe\">\n",
       "  <thead>\n",
       "    <tr style=\"text-align: right;\">\n",
       "      <th></th>\n",
       "      <th>0</th>\n",
       "      <th>1</th>\n",
       "      <th>2</th>\n",
       "      <th>3</th>\n",
       "      <th>4</th>\n",
       "      <th>5</th>\n",
       "      <th>6</th>\n",
       "      <th>7</th>\n",
       "      <th>8</th>\n",
       "      <th>9</th>\n",
       "      <th>10</th>\n",
       "      <th>11</th>\n",
       "      <th>12</th>\n",
       "      <th>13</th>\n",
       "    </tr>\n",
       "  </thead>\n",
       "  <tbody>\n",
       "    <tr>\n",
       "      <th>0</th>\n",
       "      <td>-0.937753</td>\n",
       "      <td>-0.500439</td>\n",
       "      <td>0.678974</td>\n",
       "      <td>-0.616253</td>\n",
       "      <td>0.407620</td>\n",
       "      <td>-0.178738</td>\n",
       "      <td>-1.391540</td>\n",
       "      <td>1.512248</td>\n",
       "      <td>1.655482</td>\n",
       "      <td>1.589236</td>\n",
       "      <td>0.660811</td>\n",
       "      <td>-0.943425</td>\n",
       "      <td>1.369126</td>\n",
       "      <td>-1.525765</td>\n",
       "    </tr>\n",
       "    <tr>\n",
       "      <th>1</th>\n",
       "      <td>-0.937854</td>\n",
       "      <td>-0.500439</td>\n",
       "      <td>0.678974</td>\n",
       "      <td>-0.654730</td>\n",
       "      <td>0.400285</td>\n",
       "      <td>-0.823359</td>\n",
       "      <td>-1.391540</td>\n",
       "      <td>1.512248</td>\n",
       "      <td>1.655482</td>\n",
       "      <td>1.299687</td>\n",
       "      <td>0.429167</td>\n",
       "      <td>-0.943425</td>\n",
       "      <td>1.369126</td>\n",
       "      <td>-1.525765</td>\n",
       "    </tr>\n",
       "    <tr>\n",
       "      <th>2</th>\n",
       "      <td>-0.937953</td>\n",
       "      <td>-0.500439</td>\n",
       "      <td>0.678974</td>\n",
       "      <td>-0.693206</td>\n",
       "      <td>0.183490</td>\n",
       "      <td>-0.823359</td>\n",
       "      <td>-1.391540</td>\n",
       "      <td>1.512248</td>\n",
       "      <td>1.655482</td>\n",
       "      <td>1.010138</td>\n",
       "      <td>0.660811</td>\n",
       "      <td>-0.943425</td>\n",
       "      <td>1.369126</td>\n",
       "      <td>-1.525765</td>\n",
       "    </tr>\n",
       "    <tr>\n",
       "      <th>3</th>\n",
       "      <td>-0.938054</td>\n",
       "      <td>-0.500439</td>\n",
       "      <td>0.678974</td>\n",
       "      <td>-0.577776</td>\n",
       "      <td>-0.069497</td>\n",
       "      <td>-0.823359</td>\n",
       "      <td>-1.391540</td>\n",
       "      <td>1.512248</td>\n",
       "      <td>1.655482</td>\n",
       "      <td>0.720589</td>\n",
       "      <td>0.274737</td>\n",
       "      <td>-0.943425</td>\n",
       "      <td>1.369126</td>\n",
       "      <td>-1.525765</td>\n",
       "    </tr>\n",
       "    <tr>\n",
       "      <th>4</th>\n",
       "      <td>-0.938153</td>\n",
       "      <td>-0.500439</td>\n",
       "      <td>0.678974</td>\n",
       "      <td>-0.500823</td>\n",
       "      <td>-0.463407</td>\n",
       "      <td>-0.178738</td>\n",
       "      <td>-1.391540</td>\n",
       "      <td>1.512248</td>\n",
       "      <td>1.655482</td>\n",
       "      <td>0.431040</td>\n",
       "      <td>0.506381</td>\n",
       "      <td>-0.943425</td>\n",
       "      <td>1.369126</td>\n",
       "      <td>-1.525765</td>\n",
       "    </tr>\n",
       "    <tr>\n",
       "      <th>...</th>\n",
       "      <td>...</td>\n",
       "      <td>...</td>\n",
       "      <td>...</td>\n",
       "      <td>...</td>\n",
       "      <td>...</td>\n",
       "      <td>...</td>\n",
       "      <td>...</td>\n",
       "      <td>...</td>\n",
       "      <td>...</td>\n",
       "      <td>...</td>\n",
       "      <td>...</td>\n",
       "      <td>...</td>\n",
       "      <td>...</td>\n",
       "      <td>...</td>\n",
       "    </tr>\n",
       "    <tr>\n",
       "      <th>32681</th>\n",
       "      <td>0.845373</td>\n",
       "      <td>-1.145490</td>\n",
       "      <td>0.130250</td>\n",
       "      <td>1.038241</td>\n",
       "      <td>0.023209</td>\n",
       "      <td>0.145006</td>\n",
       "      <td>1.344003</td>\n",
       "      <td>-1.701824</td>\n",
       "      <td>-1.672098</td>\n",
       "      <td>-0.437606</td>\n",
       "      <td>-1.037912</td>\n",
       "      <td>0.860876</td>\n",
       "      <td>-0.730393</td>\n",
       "      <td>0.293766</td>\n",
       "    </tr>\n",
       "    <tr>\n",
       "      <th>32682</th>\n",
       "      <td>0.845273</td>\n",
       "      <td>-1.145490</td>\n",
       "      <td>-0.052658</td>\n",
       "      <td>1.038241</td>\n",
       "      <td>-0.309138</td>\n",
       "      <td>0.145006</td>\n",
       "      <td>1.344003</td>\n",
       "      <td>-1.701824</td>\n",
       "      <td>-1.672098</td>\n",
       "      <td>-0.727155</td>\n",
       "      <td>-1.269556</td>\n",
       "      <td>0.860876</td>\n",
       "      <td>-0.730393</td>\n",
       "      <td>0.293766</td>\n",
       "    </tr>\n",
       "    <tr>\n",
       "      <th>32683</th>\n",
       "      <td>0.845173</td>\n",
       "      <td>-1.145490</td>\n",
       "      <td>-0.052658</td>\n",
       "      <td>1.038241</td>\n",
       "      <td>0.020443</td>\n",
       "      <td>0.789627</td>\n",
       "      <td>1.344003</td>\n",
       "      <td>-1.701824</td>\n",
       "      <td>-1.672098</td>\n",
       "      <td>-1.016704</td>\n",
       "      <td>-1.269556</td>\n",
       "      <td>0.860876</td>\n",
       "      <td>-0.730393</td>\n",
       "      <td>0.293766</td>\n",
       "    </tr>\n",
       "    <tr>\n",
       "      <th>32684</th>\n",
       "      <td>0.845073</td>\n",
       "      <td>-1.145490</td>\n",
       "      <td>-0.052658</td>\n",
       "      <td>0.999764</td>\n",
       "      <td>0.248901</td>\n",
       "      <td>0.465884</td>\n",
       "      <td>1.344003</td>\n",
       "      <td>-1.701824</td>\n",
       "      <td>-1.672098</td>\n",
       "      <td>-1.306253</td>\n",
       "      <td>-1.192341</td>\n",
       "      <td>0.860876</td>\n",
       "      <td>-0.730393</td>\n",
       "      <td>0.293766</td>\n",
       "    </tr>\n",
       "    <tr>\n",
       "      <th>32685</th>\n",
       "      <td>0.844973</td>\n",
       "      <td>-1.145490</td>\n",
       "      <td>0.130250</td>\n",
       "      <td>0.999764</td>\n",
       "      <td>-0.720242</td>\n",
       "      <td>-0.823359</td>\n",
       "      <td>1.344003</td>\n",
       "      <td>-1.701824</td>\n",
       "      <td>-1.672098</td>\n",
       "      <td>-1.595802</td>\n",
       "      <td>-1.192341</td>\n",
       "      <td>0.860876</td>\n",
       "      <td>-0.730393</td>\n",
       "      <td>0.293766</td>\n",
       "    </tr>\n",
       "  </tbody>\n",
       "</table>\n",
       "<p>32686 rows × 14 columns</p>\n",
       "</div>"
      ],
      "text/plain": [
       "             0         1         2         3         4         5         6   \\\n",
       "0     -0.937753 -0.500439  0.678974 -0.616253  0.407620 -0.178738 -1.391540   \n",
       "1     -0.937854 -0.500439  0.678974 -0.654730  0.400285 -0.823359 -1.391540   \n",
       "2     -0.937953 -0.500439  0.678974 -0.693206  0.183490 -0.823359 -1.391540   \n",
       "3     -0.938054 -0.500439  0.678974 -0.577776 -0.069497 -0.823359 -1.391540   \n",
       "4     -0.938153 -0.500439  0.678974 -0.500823 -0.463407 -0.178738 -1.391540   \n",
       "...         ...       ...       ...       ...       ...       ...       ...   \n",
       "32681  0.845373 -1.145490  0.130250  1.038241  0.023209  0.145006  1.344003   \n",
       "32682  0.845273 -1.145490 -0.052658  1.038241 -0.309138  0.145006  1.344003   \n",
       "32683  0.845173 -1.145490 -0.052658  1.038241  0.020443  0.789627  1.344003   \n",
       "32684  0.845073 -1.145490 -0.052658  0.999764  0.248901  0.465884  1.344003   \n",
       "32685  0.844973 -1.145490  0.130250  0.999764 -0.720242 -0.823359  1.344003   \n",
       "\n",
       "             7         8         9         10        11        12        13  \n",
       "0      1.512248  1.655482  1.589236  0.660811 -0.943425  1.369126 -1.525765  \n",
       "1      1.512248  1.655482  1.299687  0.429167 -0.943425  1.369126 -1.525765  \n",
       "2      1.512248  1.655482  1.010138  0.660811 -0.943425  1.369126 -1.525765  \n",
       "3      1.512248  1.655482  0.720589  0.274737 -0.943425  1.369126 -1.525765  \n",
       "4      1.512248  1.655482  0.431040  0.506381 -0.943425  1.369126 -1.525765  \n",
       "...         ...       ...       ...       ...       ...       ...       ...  \n",
       "32681 -1.701824 -1.672098 -0.437606 -1.037912  0.860876 -0.730393  0.293766  \n",
       "32682 -1.701824 -1.672098 -0.727155 -1.269556  0.860876 -0.730393  0.293766  \n",
       "32683 -1.701824 -1.672098 -1.016704 -1.269556  0.860876 -0.730393  0.293766  \n",
       "32684 -1.701824 -1.672098 -1.306253 -1.192341  0.860876 -0.730393  0.293766  \n",
       "32685 -1.701824 -1.672098 -1.595802 -1.192341  0.860876 -0.730393  0.293766  \n",
       "\n",
       "[32686 rows x 14 columns]"
      ]
     },
     "execution_count": 30,
     "metadata": {},
     "output_type": "execute_result"
    }
   ],
   "source": [
    "pd.DataFrame(x_data)"
   ]
  },
  {
   "cell_type": "code",
   "execution_count": 31,
   "id": "0b6fafbc",
   "metadata": {},
   "outputs": [],
   "source": [
    "x_train,x_test,y_train,y_test=train_test_split(x,y,test_size=0.3,random_state=42)\n",
    "\n",
    "\n",
    "x_train,x_val,y_train,y_val=train_test_split(x_train,y_train,test_size=0.2,random_state=100)"
   ]
  },
  {
   "cell_type": "code",
   "execution_count": 32,
   "id": "bce8b45f",
   "metadata": {},
   "outputs": [
    {
     "name": "stdout",
     "output_type": "stream",
     "text": [
      "x_train: 18304\n",
      "x_test 9806\n",
      "y_train 18304\n",
      "y_test 9806\n",
      "x_val 4576\n",
      "y_val 4576\n"
     ]
    }
   ],
   "source": [
    "print(\"x_train:\",x_train.shape[0])\n",
    "print('x_test',x_test.shape[0])\n",
    "print('y_train',y_train.shape[0])\n",
    "print('y_test',y_test.shape[0])\n",
    "print('x_val',x_val.shape[0])\n",
    "print('y_val',y_val.shape[0])"
   ]
  },
  {
   "cell_type": "code",
   "execution_count": 33,
   "id": "6dd14049",
   "metadata": {},
   "outputs": [],
   "source": [
    "dtrain=xgb.DMatrix(x_train,label=y_train)\n",
    "dtest=xgb.DMatrix(x_test,label=y_test)\n",
    "dval=xgb.DMatrix(x_val,label=y_val)"
   ]
  },
  {
   "cell_type": "markdown",
   "id": "63738406",
   "metadata": {},
   "source": [
    "# Training Model"
   ]
  },
  {
   "cell_type": "code",
   "execution_count": 34,
   "id": "8b7c18fc",
   "metadata": {},
   "outputs": [],
   "source": [
    "def rmse_model(params):\n",
    "    model=xgb.train(params,dtrain,num_boost_round=100,evals=[(dval,'evals')],early_stopping_rounds=10,verbose_eval=0)\n",
    "    result=model.eval(dval)\n",
    "    rmse=np.float64(re.search(r\"[\\d.]+$\",result).group(0))\n",
    "    return rmse\n"
   ]
  },
  {
   "cell_type": "code",
   "execution_count": 29,
   "id": "f561b104",
   "metadata": {},
   "outputs": [],
   "source": [
    "#params={\"Learning_rate\":0.01,\"max_depth\":6,\"alpha\":0.01,\"lambda\":1.0}\n",
    "#rmse_model(params)"
   ]
  },
  {
   "cell_type": "code",
   "execution_count": 35,
   "id": "7aec9d01",
   "metadata": {},
   "outputs": [],
   "source": [
    "def optuna_objective(trial):\n",
    "    learning_rate=trial.suggest_loguniform(\"learning_rate\",0.00001,10.0)\n",
    "    max_depth=trial.suggest_int('max_depth',4,8)\n",
    "    l1_reg=trial.suggest_loguniform(\"l1_reg\",0.00001,10.0)\n",
    "    l2_reg=trial.suggest_loguniform(\"l2_reg\",0.00001,10.0)\n",
    "    params={\"learning_rate\":learning_rate,\"max_depth\":max_depth,\"alpha\":l1_reg,\"lambda\":l2_reg}\n",
    "    \n",
    "    return rmse_model(params)"
   ]
  },
  {
   "cell_type": "code",
   "execution_count": 36,
   "id": "6de5039c",
   "metadata": {},
   "outputs": [],
   "source": [
    "class TensorBoardCallback(xgb.callback.TrainingCallback):\n",
    "    def __init__(self, experiment: str = None, data_name: str = None):\n",
    "        self.experiment = experiment or \"logs\"\n",
    "        self.data_name = data_name or \"test\"\n",
    "        self.datetime_ = datetime.datetime.now().strftime(\"%Y%m%d-%H%M%S\")\n",
    "        self.log_dir = f\"runs/{self.experiment}/{self.datetime_}\"\n",
    "        self.train_writer = SummaryWriter(log_dir=os.path.join(self.log_dir, \"train/\"))\n",
    "        if self.data_name:\n",
    "            self.test_writer = SummaryWriter(\n",
    "                log_dir=os.path.join(self.log_dir, f\"{self.data_name}/\")\n",
    "            )\n",
    "\n",
    "    def after_iteration(\n",
    "        self, model, epoch: int, evals_log: xgb.callback.TrainingCallback.EvalsLog\n",
    "    ) -> bool:\n",
    "        if not evals_log:\n",
    "            return False\n",
    "\n",
    "        for data, metric in evals_log.items():\n",
    "            for metric_name, log in metric.items():\n",
    "                score = log[-1][0] if isinstance(log[-1], tuple) else log[-1]\n",
    "                if data == \"train\":\n",
    "                    self.train_writer.add_scalar(metric_name, score, epoch)\n",
    "                else:\n",
    "                    self.test_writer.add_scalar(metric_name, score, epoch)\n",
    "\n",
    "        return False"
   ]
  },
  {
   "cell_type": "code",
   "execution_count": 66,
   "id": "287d37df",
   "metadata": {},
   "outputs": [
    {
     "name": "stderr",
     "output_type": "stream",
     "text": [
      "\u001b[32m[I 2023-03-11 06:19:38,456]\u001b[0m A new study created in memory with name: no-name-d36c8e0b-1db9-45d5-adf6-394df0711289\u001b[0m\n",
      "C:\\Users\\hp\\Documents\\Tensorflow\\tune\\lib\\site-packages\\optuna\\progress_bar.py:56: ExperimentalWarning: Progress bar is experimental (supported from v1.2.0). The interface can change in the future.\n",
      "  self._init_valid()\n",
      "  0%|                                                                                          | 0/120 [00:00<?, ?it/s]C:\\Users\\hp\\AppData\\Local\\Temp\\ipykernel_6856\\2406076344.py:2: FutureWarning: suggest_loguniform has been deprecated in v3.0.0. This feature will be removed in v6.0.0. See https://github.com/optuna/optuna/releases/tag/v3.0.0. Use :func:`~optuna.trial.Trial.suggest_float` instead.\n",
      "  learning_rate=trial.suggest_loguniform(\"learning_rate\",0.00001,10.0)\n",
      "C:\\Users\\hp\\AppData\\Local\\Temp\\ipykernel_6856\\2406076344.py:4: FutureWarning: suggest_loguniform has been deprecated in v3.0.0. This feature will be removed in v6.0.0. See https://github.com/optuna/optuna/releases/tag/v3.0.0. Use :func:`~optuna.trial.Trial.suggest_float` instead.\n",
      "  l1_reg=trial.suggest_loguniform(\"l1_reg\",0.00001,10.0)\n",
      "C:\\Users\\hp\\AppData\\Local\\Temp\\ipykernel_6856\\2406076344.py:5: FutureWarning: suggest_loguniform has been deprecated in v3.0.0. This feature will be removed in v6.0.0. See https://github.com/optuna/optuna/releases/tag/v3.0.0. Use :func:`~optuna.trial.Trial.suggest_float` instead.\n",
      "  l2_reg=trial.suggest_loguniform(\"l2_reg\",0.00001,10.0)\n",
      "Best trial: 0. Best value: 375.671:   1%|▍                                             | 1/120 [00:02<04:57,  2.50s/it]"
     ]
    },
    {
     "name": "stdout",
     "output_type": "stream",
     "text": [
      "\u001b[32m[I 2023-03-11 06:19:40,956]\u001b[0m Trial 0 finished with value: 375.6709549192406 and parameters: {'learning_rate': 2.272147781683205e-05, 'max_depth': 6, 'l1_reg': 3.828043161800561, 'l2_reg': 2.582345561708748}. Best is trial 0 with value: 375.6709549192406.\u001b[0m\n"
     ]
    },
    {
     "name": "stderr",
     "output_type": "stream",
     "text": [
      "Best trial: 1. Best value: 371.084:   2%|▊                                             | 2/120 [00:04<03:57,  2.01s/it]"
     ]
    },
    {
     "name": "stdout",
     "output_type": "stream",
     "text": [
      "\u001b[32m[I 2023-03-11 06:19:42,628]\u001b[0m Trial 1 finished with value: 371.08416423394635 and parameters: {'learning_rate': 0.00016897763530171933, 'max_depth': 4, 'l1_reg': 0.00014450588708801612, 'l2_reg': 0.00012609023303893408}. Best is trial 1 with value: 371.08416423394635.\u001b[0m\n"
     ]
    },
    {
     "name": "stderr",
     "output_type": "stream",
     "text": [
      "Best trial: 2. Best value: 337.504:   2%|█▏                                            | 3/120 [00:07<05:25,  2.78s/it]"
     ]
    },
    {
     "name": "stdout",
     "output_type": "stream",
     "text": [
      "\u001b[32m[I 2023-03-11 06:19:46,331]\u001b[0m Trial 2 finished with value: 337.504176466294 and parameters: {'learning_rate': 0.0011968199983512335, 'max_depth': 8, 'l1_reg': 0.00030485568097041903, 'l2_reg': 0.7281242355467643}. Best is trial 2 with value: 337.504176466294.\u001b[0m\n"
     ]
    },
    {
     "name": "stderr",
     "output_type": "stream",
     "text": [
      "Best trial: 3. Best value: 139.907:   3%|█▌                                            | 4/120 [00:08<03:40,  1.90s/it]"
     ]
    },
    {
     "name": "stdout",
     "output_type": "stream",
     "text": [
      "\u001b[32m[I 2023-03-11 06:19:46,879]\u001b[0m Trial 3 finished with value: 139.90674501469317 and parameters: {'learning_rate': 1.5760481465524816, 'max_depth': 8, 'l1_reg': 0.013124899868200948, 'l2_reg': 0.014723595654798692}. Best is trial 3 with value: 139.90674501469317.\u001b[0m\n"
     ]
    },
    {
     "name": "stderr",
     "output_type": "stream",
     "text": [
      "Best trial: 3. Best value: 139.907:   4%|█▉                                            | 5/120 [00:10<03:45,  1.96s/it]"
     ]
    },
    {
     "name": "stdout",
     "output_type": "stream",
     "text": [
      "\u001b[32m[I 2023-03-11 06:19:48,937]\u001b[0m Trial 4 finished with value: 355.88732251545366 and parameters: {'learning_rate': 0.0006415158219993764, 'max_depth': 5, 'l1_reg': 0.3590142900832325, 'l2_reg': 3.1478056617531084e-05}. Best is trial 3 with value: 139.90674501469317.\u001b[0m\n"
     ]
    },
    {
     "name": "stderr",
     "output_type": "stream",
     "text": [
      "Best trial: 5. Best value: 81.4415:   5%|██▎                                           | 6/120 [00:13<04:09,  2.19s/it]"
     ]
    },
    {
     "name": "stdout",
     "output_type": "stream",
     "text": [
      "\u001b[32m[I 2023-03-11 06:19:51,564]\u001b[0m Trial 5 finished with value: 81.44151048684041 and parameters: {'learning_rate': 0.0629576535417356, 'max_depth': 6, 'l1_reg': 0.42554362800712114, 'l2_reg': 0.005556557937913662}. Best is trial 5 with value: 81.44151048684041.\u001b[0m\n"
     ]
    },
    {
     "name": "stderr",
     "output_type": "stream",
     "text": [
      "Best trial: 5. Best value: 81.4415:   6%|██▋                                           | 7/120 [00:13<03:01,  1.60s/it]"
     ]
    },
    {
     "name": "stdout",
     "output_type": "stream",
     "text": [
      "\u001b[32m[I 2023-03-11 06:19:51,970]\u001b[0m Trial 6 finished with value: 1090909988.070946 and parameters: {'learning_rate': 4.8853113895469145, 'max_depth': 7, 'l1_reg': 5.203298894769718, 'l2_reg': 0.03675318319417796}. Best is trial 5 with value: 81.44151048684041.\u001b[0m\n"
     ]
    },
    {
     "name": "stderr",
     "output_type": "stream",
     "text": [
      "Best trial: 7. Best value: 77.2268:   7%|███                                           | 8/120 [00:17<04:27,  2.39s/it]"
     ]
    },
    {
     "name": "stdout",
     "output_type": "stream",
     "text": [
      "\u001b[32m[I 2023-03-11 06:19:56,039]\u001b[0m Trial 7 finished with value: 77.22684125427774 and parameters: {'learning_rate': 0.045866013697119096, 'max_depth': 8, 'l1_reg': 5.141636056325721, 'l2_reg': 0.00024182611193594437}. Best is trial 7 with value: 77.22684125427774.\u001b[0m\n"
     ]
    },
    {
     "name": "stderr",
     "output_type": "stream",
     "text": [
      "Best trial: 7. Best value: 77.2268:   8%|███▍                                          | 9/120 [00:19<03:58,  2.15s/it]"
     ]
    },
    {
     "name": "stdout",
     "output_type": "stream",
     "text": [
      "\u001b[32m[I 2023-03-11 06:19:57,672]\u001b[0m Trial 8 finished with value: 86.69810345132154 and parameters: {'learning_rate': 0.5683540826841071, 'max_depth': 4, 'l1_reg': 5.7692490525939504e-05, 'l2_reg': 0.08367587160826633}. Best is trial 7 with value: 77.22684125427774.\u001b[0m\n"
     ]
    },
    {
     "name": "stderr",
     "output_type": "stream",
     "text": [
      "Best trial: 7. Best value: 77.2268:   8%|███▊                                         | 10/120 [00:21<03:59,  2.18s/it]"
     ]
    },
    {
     "name": "stdout",
     "output_type": "stream",
     "text": [
      "\u001b[32m[I 2023-03-11 06:19:59,919]\u001b[0m Trial 9 finished with value: 340.2703945912367 and parameters: {'learning_rate': 0.0011609509816810002, 'max_depth': 5, 'l1_reg': 0.004109292297970187, 'l2_reg': 0.6847475309091959}. Best is trial 7 with value: 77.22684125427774.\u001b[0m\n"
     ]
    },
    {
     "name": "stderr",
     "output_type": "stream",
     "text": [
      "Best trial: 7. Best value: 77.2268:   9%|████▏                                        | 11/120 [00:25<04:46,  2.63s/it]"
     ]
    },
    {
     "name": "stdout",
     "output_type": "stream",
     "text": [
      "\u001b[32m[I 2023-03-11 06:20:03,561]\u001b[0m Trial 10 finished with value: 88.23146639407155 and parameters: {'learning_rate': 0.02675024990634909, 'max_depth': 7, 'l1_reg': 9.775902076282202, 'l2_reg': 0.0006533968592682122}. Best is trial 7 with value: 77.22684125427774.\u001b[0m\n"
     ]
    },
    {
     "name": "stderr",
     "output_type": "stream",
     "text": [
      "Best trial: 7. Best value: 77.2268:  10%|████▌                                        | 12/120 [00:27<04:46,  2.65s/it]"
     ]
    },
    {
     "name": "stdout",
     "output_type": "stream",
     "text": [
      "\u001b[32m[I 2023-03-11 06:20:06,265]\u001b[0m Trial 11 finished with value: 81.56945373000853 and parameters: {'learning_rate': 0.05203152883915366, 'max_depth': 6, 'l1_reg': 0.27736248959115667, 'l2_reg': 0.0016620234233321218}. Best is trial 7 with value: 77.22684125427774.\u001b[0m\n"
     ]
    },
    {
     "name": "stderr",
     "output_type": "stream",
     "text": [
      "Best trial: 12. Best value: 75.4178:  11%|████▊                                       | 13/120 [00:30<04:56,  2.77s/it]"
     ]
    },
    {
     "name": "stdout",
     "output_type": "stream",
     "text": [
      "\u001b[32m[I 2023-03-11 06:20:09,318]\u001b[0m Trial 12 finished with value: 75.4178372241256 and parameters: {'learning_rate': 0.1521397729108002, 'max_depth': 7, 'l1_reg': 0.3812967080550095, 'l2_reg': 0.0015174337131858204}. Best is trial 12 with value: 75.4178372241256.\u001b[0m\n"
     ]
    },
    {
     "name": "stderr",
     "output_type": "stream",
     "text": [
      "Best trial: 12. Best value: 75.4178:  12%|█████▏                                      | 14/120 [00:33<04:38,  2.63s/it]"
     ]
    },
    {
     "name": "stdout",
     "output_type": "stream",
     "text": [
      "\u001b[32m[I 2023-03-11 06:20:11,620]\u001b[0m Trial 13 finished with value: 76.37047431761587 and parameters: {'learning_rate': 0.20254207001895286, 'max_depth': 7, 'l1_reg': 0.7581937795989787, 'l2_reg': 0.0004052249575845591}. Best is trial 12 with value: 75.4178372241256.\u001b[0m\n"
     ]
    },
    {
     "name": "stderr",
     "output_type": "stream",
     "text": [
      "Best trial: 12. Best value: 75.4178:  12%|█████▌                                      | 15/120 [00:34<04:04,  2.33s/it]"
     ]
    },
    {
     "name": "stdout",
     "output_type": "stream",
     "text": [
      "\u001b[32m[I 2023-03-11 06:20:13,237]\u001b[0m Trial 14 finished with value: 80.05954456701178 and parameters: {'learning_rate': 0.3160956959597162, 'max_depth': 7, 'l1_reg': 0.07097126669525936, 'l2_reg': 2.1995154737167346e-05}. Best is trial 12 with value: 75.4178372241256.\u001b[0m\n"
     ]
    },
    {
     "name": "stderr",
     "output_type": "stream",
     "text": [
      "Best trial: 12. Best value: 75.4178:  13%|█████▊                                      | 16/120 [00:35<03:02,  1.75s/it]"
     ]
    },
    {
     "name": "stdout",
     "output_type": "stream",
     "text": [
      "\u001b[32m[I 2023-03-11 06:20:13,657]\u001b[0m Trial 15 finished with value: 9148281590160.992 and parameters: {'learning_rate': 9.830557814230033, 'max_depth': 7, 'l1_reg': 0.9405946590766144, 'l2_reg': 0.0016171324417728987}. Best is trial 12 with value: 75.4178372241256.\u001b[0m\n"
     ]
    },
    {
     "name": "stderr",
     "output_type": "stream",
     "text": [
      "Best trial: 12. Best value: 75.4178:  14%|██████▏                                     | 17/120 [00:38<03:41,  2.15s/it]"
     ]
    },
    {
     "name": "stdout",
     "output_type": "stream",
     "text": [
      "\u001b[32m[I 2023-03-11 06:20:16,750]\u001b[0m Trial 16 finished with value: 220.21850769177036 and parameters: {'learning_rate': 0.006191573922171302, 'max_depth': 7, 'l1_reg': 0.036737820830695725, 'l2_reg': 0.00014845610506773586}. Best is trial 12 with value: 75.4178372241256.\u001b[0m\n"
     ]
    },
    {
     "name": "stderr",
     "output_type": "stream",
     "text": [
      "Best trial: 12. Best value: 75.4178:  15%|██████▌                                     | 18/120 [00:40<03:38,  2.14s/it]"
     ]
    },
    {
     "name": "stdout",
     "output_type": "stream",
     "text": [
      "\u001b[32m[I 2023-03-11 06:20:18,864]\u001b[0m Trial 17 finished with value: 81.38274510604094 and parameters: {'learning_rate': 0.27711844765128035, 'max_depth': 5, 'l1_reg': 1.126471653518708, 'l2_reg': 1.2047179183616676e-05}. Best is trial 12 with value: 75.4178372241256.\u001b[0m\n"
     ]
    },
    {
     "name": "stderr",
     "output_type": "stream",
     "text": [
      "Best trial: 12. Best value: 75.4178:  16%|██████▉                                     | 19/120 [00:41<02:54,  1.72s/it]"
     ]
    },
    {
     "name": "stdout",
     "output_type": "stream",
     "text": [
      "\u001b[32m[I 2023-03-11 06:20:19,611]\u001b[0m Trial 18 finished with value: 159.7064516663645 and parameters: {'learning_rate': 1.7455963038940268, 'max_depth': 8, 'l1_reg': 0.0931798207181797, 'l2_reg': 0.0022313275293872835}. Best is trial 12 with value: 75.4178372241256.\u001b[0m\n"
     ]
    },
    {
     "name": "stderr",
     "output_type": "stream",
     "text": [
      "Best trial: 12. Best value: 75.4178:  17%|███████▎                                    | 20/120 [00:44<03:33,  2.14s/it]"
     ]
    },
    {
     "name": "stdout",
     "output_type": "stream",
     "text": [
      "\u001b[32m[I 2023-03-11 06:20:22,717]\u001b[0m Trial 19 finished with value: 199.3470104831839 and parameters: {'learning_rate': 0.007453416293965051, 'max_depth': 7, 'l1_reg': 0.0035427609227058087, 'l2_reg': 0.0005390651997075611}. Best is trial 12 with value: 75.4178372241256.\u001b[0m\n"
     ]
    },
    {
     "name": "stderr",
     "output_type": "stream",
     "text": [
      "Best trial: 12. Best value: 75.4178:  18%|███████▋                                    | 21/120 [00:46<03:44,  2.27s/it]"
     ]
    },
    {
     "name": "stdout",
     "output_type": "stream",
     "text": [
      "\u001b[32m[I 2023-03-11 06:20:25,285]\u001b[0m Trial 20 finished with value: 77.94105818301534 and parameters: {'learning_rate': 0.14315428957465862, 'max_depth': 6, 'l1_reg': 1.3364377259307034, 'l2_reg': 0.008036636386899632}. Best is trial 12 with value: 75.4178372241256.\u001b[0m\n"
     ]
    },
    {
     "name": "stderr",
     "output_type": "stream",
     "text": [
      "Best trial: 12. Best value: 75.4178:  18%|████████                                    | 22/120 [00:50<04:25,  2.71s/it]"
     ]
    },
    {
     "name": "stdout",
     "output_type": "stream",
     "text": [
      "\u001b[32m[I 2023-03-11 06:20:29,015]\u001b[0m Trial 21 finished with value: 92.32547423637173 and parameters: {'learning_rate': 0.022090206093829026, 'max_depth': 8, 'l1_reg': 2.2165924139713917, 'l2_reg': 0.00023457797489544728}. Best is trial 12 with value: 75.4178372241256.\u001b[0m\n"
     ]
    },
    {
     "name": "stderr",
     "output_type": "stream",
     "text": [
      "Best trial: 22. Best value: 75.0319:  19%|████████▍                                   | 23/120 [00:54<04:47,  2.97s/it]"
     ]
    },
    {
     "name": "stdout",
     "output_type": "stream",
     "text": [
      "\u001b[32m[I 2023-03-11 06:20:32,594]\u001b[0m Trial 22 finished with value: 75.03194699826118 and parameters: {'learning_rate': 0.11842568584360313, 'max_depth': 8, 'l1_reg': 9.510184691454853, 'l2_reg': 5.734810364912807e-05}. Best is trial 22 with value: 75.03194699826118.\u001b[0m\n"
     ]
    },
    {
     "name": "stderr",
     "output_type": "stream",
     "text": [
      "Best trial: 22. Best value: 75.0319:  20%|████████▊                                   | 24/120 [00:57<04:43,  2.95s/it]"
     ]
    },
    {
     "name": "stdout",
     "output_type": "stream",
     "text": [
      "\u001b[32m[I 2023-03-11 06:20:35,500]\u001b[0m Trial 23 finished with value: 75.66227353484335 and parameters: {'learning_rate': 0.12583138012774747, 'max_depth': 8, 'l1_reg': 9.732103512983674, 'l2_reg': 5.546646386328095e-05}. Best is trial 22 with value: 75.03194699826118.\u001b[0m\n"
     ]
    },
    {
     "name": "stderr",
     "output_type": "stream",
     "text": [
      "Best trial: 22. Best value: 75.0319:  21%|█████████▏                                  | 25/120 [00:57<03:36,  2.28s/it]"
     ]
    },
    {
     "name": "stdout",
     "output_type": "stream",
     "text": [
      "\u001b[32m[I 2023-03-11 06:20:36,210]\u001b[0m Trial 24 finished with value: 90.62169648636954 and parameters: {'learning_rate': 0.8355556809716496, 'max_depth': 8, 'l1_reg': 9.457188488604343, 'l2_reg': 5.422645375948748e-05}. Best is trial 22 with value: 75.03194699826118.\u001b[0m\n"
     ]
    },
    {
     "name": "stderr",
     "output_type": "stream",
     "text": [
      "Best trial: 22. Best value: 75.0319:  22%|█████████▌                                  | 26/120 [01:00<03:47,  2.42s/it]"
     ]
    },
    {
     "name": "stdout",
     "output_type": "stream",
     "text": [
      "\u001b[32m[I 2023-03-11 06:20:38,969]\u001b[0m Trial 25 finished with value: 76.16177640315588 and parameters: {'learning_rate': 0.1577804020044851, 'max_depth': 8, 'l1_reg': 2.494733041435872, 'l2_reg': 5.2495317188393346e-05}. Best is trial 22 with value: 75.03194699826118.\u001b[0m\n"
     ]
    },
    {
     "name": "stderr",
     "output_type": "stream",
     "text": [
      "Best trial: 22. Best value: 75.0319:  22%|█████████▉                                  | 27/120 [01:04<04:17,  2.77s/it]"
     ]
    },
    {
     "name": "stdout",
     "output_type": "stream",
     "text": [
      "\u001b[32m[I 2023-03-11 06:20:42,545]\u001b[0m Trial 26 finished with value: 75.48430824349579 and parameters: {'learning_rate': 0.09981912981248116, 'max_depth': 8, 'l1_reg': 1.8165261063200144, 'l2_reg': 1.4791996381543713e-05}. Best is trial 22 with value: 75.03194699826118.\u001b[0m\n"
     ]
    },
    {
     "name": "stderr",
     "output_type": "stream",
     "text": [
      "Best trial: 22. Best value: 75.0319:  23%|██████████▎                                 | 28/120 [01:07<04:25,  2.88s/it]"
     ]
    },
    {
     "name": "stdout",
     "output_type": "stream",
     "text": [
      "\u001b[32m[I 2023-03-11 06:20:45,690]\u001b[0m Trial 27 finished with value: 124.7188023099289 and parameters: {'learning_rate': 0.014764192607907248, 'max_depth': 7, 'l1_reg': 0.21966599249601257, 'l2_reg': 1.0997402260034122e-05}. Best is trial 22 with value: 75.03194699826118.\u001b[0m\n"
     ]
    },
    {
     "name": "stderr",
     "output_type": "stream",
     "text": [
      "Best trial: 22. Best value: 75.0319:  24%|██████████▋                                 | 29/120 [01:07<03:22,  2.22s/it]"
     ]
    },
    {
     "name": "stdout",
     "output_type": "stream",
     "text": [
      "\u001b[32m[I 2023-03-11 06:20:46,380]\u001b[0m Trial 28 finished with value: 90.09998342345195 and parameters: {'learning_rate': 0.6304995132256858, 'max_depth': 8, 'l1_reg': 2.5543343957076403, 'l2_reg': 8.053265201137806e-05}. Best is trial 22 with value: 75.03194699826118.\u001b[0m\n"
     ]
    },
    {
     "name": "stderr",
     "output_type": "stream",
     "text": [
      "Best trial: 22. Best value: 75.0319:  25%|███████████                                 | 30/120 [01:11<03:43,  2.49s/it]"
     ]
    },
    {
     "name": "stdout",
     "output_type": "stream",
     "text": [
      "\u001b[32m[I 2023-03-11 06:20:49,487]\u001b[0m Trial 29 finished with value: 76.99875151670278 and parameters: {'learning_rate': 0.07902193819473047, 'max_depth': 7, 'l1_reg': 3.0269857625802246, 'l2_reg': 2.674926815224255e-05}. Best is trial 22 with value: 75.03194699826118.\u001b[0m\n"
     ]
    },
    {
     "name": "stderr",
     "output_type": "stream",
     "text": [
      "Best trial: 22. Best value: 75.0319:  26%|███████████▎                                | 31/120 [01:13<03:43,  2.52s/it]"
     ]
    },
    {
     "name": "stdout",
     "output_type": "stream",
     "text": [
      "\u001b[32m[I 2023-03-11 06:20:52,068]\u001b[0m Trial 30 finished with value: 376.042256233972 and parameters: {'learning_rate': 1.1593014904080908e-05, 'max_depth': 6, 'l1_reg': 0.6688478436692115, 'l2_reg': 1.0646469853687025e-05}. Best is trial 22 with value: 75.03194699826118.\u001b[0m\n"
     ]
    },
    {
     "name": "stderr",
     "output_type": "stream",
     "text": [
      "Best trial: 31. Best value: 74.6104:  27%|███████████▋                                | 32/120 [01:17<04:08,  2.82s/it]"
     ]
    },
    {
     "name": "stdout",
     "output_type": "stream",
     "text": [
      "\u001b[32m[I 2023-03-11 06:20:55,599]\u001b[0m Trial 31 finished with value: 74.61041691996103 and parameters: {'learning_rate': 0.11194357282147809, 'max_depth': 8, 'l1_reg': 9.021807454792201, 'l2_reg': 8.179329566147793e-05}. Best is trial 31 with value: 74.61041691996103.\u001b[0m\n"
     ]
    },
    {
     "name": "stderr",
     "output_type": "stream",
     "text": [
      "Best trial: 31. Best value: 74.6104:  28%|████████████                                | 33/120 [01:20<04:27,  3.08s/it]"
     ]
    },
    {
     "name": "stdout",
     "output_type": "stream",
     "text": [
      "\u001b[32m[I 2023-03-11 06:20:59,275]\u001b[0m Trial 32 finished with value: 79.08156996023874 and parameters: {'learning_rate': 0.03572842446124309, 'max_depth': 8, 'l1_reg': 1.5540072570382943, 'l2_reg': 0.00011797871232061862}. Best is trial 31 with value: 74.61041691996103.\u001b[0m\n"
     ]
    },
    {
     "name": "stderr",
     "output_type": "stream",
     "text": [
      "Best trial: 31. Best value: 74.6104:  28%|████████████▍                               | 34/120 [01:22<03:40,  2.57s/it]"
     ]
    },
    {
     "name": "stdout",
     "output_type": "stream",
     "text": [
      "\u001b[32m[I 2023-03-11 06:21:00,651]\u001b[0m Trial 33 finished with value: 80.36934022315651 and parameters: {'learning_rate': 0.3906394836250208, 'max_depth': 8, 'l1_reg': 4.032335224635322, 'l2_reg': 0.00011264855814593501}. Best is trial 31 with value: 74.61041691996103.\u001b[0m\n"
     ]
    },
    {
     "name": "stderr",
     "output_type": "stream",
     "text": [
      "Best trial: 31. Best value: 74.6104:  29%|████████████▊                               | 35/120 [01:25<03:49,  2.71s/it]"
     ]
    },
    {
     "name": "stdout",
     "output_type": "stream",
     "text": [
      "\u001b[32m[I 2023-03-11 06:21:03,679]\u001b[0m Trial 34 finished with value: 75.38271767544778 and parameters: {'learning_rate': 0.095463959037926, 'max_depth': 8, 'l1_reg': 4.626501770413518, 'l2_reg': 0.00030888510845365514}. Best is trial 31 with value: 74.61041691996103.\u001b[0m\n"
     ]
    },
    {
     "name": "stderr",
     "output_type": "stream",
     "text": [
      "Best trial: 31. Best value: 74.6104:  30%|█████████████▏                              | 36/120 [01:28<04:11,  3.00s/it]"
     ]
    },
    {
     "name": "stdout",
     "output_type": "stream",
     "text": [
      "\u001b[32m[I 2023-03-11 06:21:07,358]\u001b[0m Trial 35 finished with value: 142.34587343431193 and parameters: {'learning_rate': 0.011965491109275469, 'max_depth': 8, 'l1_reg': 4.847624411956194, 'l2_reg': 0.0007274840756490117}. Best is trial 31 with value: 74.61041691996103.\u001b[0m\n"
     ]
    },
    {
     "name": "stderr",
     "output_type": "stream",
     "text": [
      "Best trial: 31. Best value: 74.6104:  31%|█████████████▌                              | 37/120 [01:29<03:08,  2.27s/it]"
     ]
    },
    {
     "name": "stdout",
     "output_type": "stream",
     "text": [
      "\u001b[32m[I 2023-03-11 06:21:07,915]\u001b[0m Trial 36 finished with value: 122.16897540369725 and parameters: {'learning_rate': 1.312169586618799, 'max_depth': 8, 'l1_reg': 0.8689894047777525, 'l2_reg': 0.0002766022904975793}. Best is trial 31 with value: 74.61041691996103.\u001b[0m\n"
     ]
    },
    {
     "name": "stderr",
     "output_type": "stream",
     "text": [
      "Best trial: 31. Best value: 74.6104:  32%|█████████████▉                              | 38/120 [01:32<03:25,  2.50s/it]"
     ]
    },
    {
     "name": "stdout",
     "output_type": "stream",
     "text": [
      "\u001b[32m[I 2023-03-11 06:21:10,966]\u001b[0m Trial 37 finished with value: 256.32934927828364 and parameters: {'learning_rate': 0.0043531859957712336, 'max_depth': 7, 'l1_reg': 5.178361785184076, 'l2_reg': 0.0001665110201744681}. Best is trial 31 with value: 74.61041691996103.\u001b[0m\n"
     ]
    },
    {
     "name": "stderr",
     "output_type": "stream",
     "text": [
      "Best trial: 31. Best value: 74.6104:  32%|██████████████▎                             | 39/120 [01:36<03:50,  2.85s/it]"
     ]
    },
    {
     "name": "stdout",
     "output_type": "stream",
     "text": [
      "\u001b[32m[I 2023-03-11 06:21:14,618]\u001b[0m Trial 38 finished with value: 75.5017555454455 and parameters: {'learning_rate': 0.07805205236097652, 'max_depth': 8, 'l1_reg': 0.2642750336695266, 'l2_reg': 3.659108563182344e-05}. Best is trial 31 with value: 74.61041691996103.\u001b[0m\n"
     ]
    },
    {
     "name": "stderr",
     "output_type": "stream",
     "text": [
      "Best trial: 31. Best value: 74.6104:  33%|██████████████▋                             | 40/120 [01:39<03:55,  2.94s/it]"
     ]
    },
    {
     "name": "stdout",
     "output_type": "stream",
     "text": [
      "\u001b[32m[I 2023-03-11 06:21:17,785]\u001b[0m Trial 39 finished with value: 83.16975939259024 and parameters: {'learning_rate': 0.03207519405546184, 'max_depth': 7, 'l1_reg': 0.5023463994766557, 'l2_reg': 0.0008777676680349141}. Best is trial 31 with value: 74.61041691996103.\u001b[0m\n"
     ]
    },
    {
     "name": "stderr",
     "output_type": "stream",
     "text": [
      "Best trial: 31. Best value: 74.6104:  34%|███████████████                             | 41/120 [01:41<03:27,  2.63s/it]"
     ]
    },
    {
     "name": "stdout",
     "output_type": "stream",
     "text": [
      "\u001b[32m[I 2023-03-11 06:21:19,673]\u001b[0m Trial 40 finished with value: 84.75369220153236 and parameters: {'learning_rate': 0.30425473971353933, 'max_depth': 4, 'l1_reg': 5.593261214970949, 'l2_reg': 0.0026782050081132947}. Best is trial 31 with value: 74.61041691996103.\u001b[0m\n"
     ]
    },
    {
     "name": "stderr",
     "output_type": "stream",
     "text": [
      "Best trial: 31. Best value: 74.6104:  35%|███████████████▍                            | 42/120 [01:44<03:50,  2.95s/it]"
     ]
    },
    {
     "name": "stdout",
     "output_type": "stream",
     "text": [
      "\u001b[32m[I 2023-03-11 06:21:23,378]\u001b[0m Trial 41 finished with value: 74.6941830487911 and parameters: {'learning_rate': 0.09236606847483823, 'max_depth': 8, 'l1_reg': 1.9995499134407209, 'l2_reg': 6.39825652125512e-05}. Best is trial 31 with value: 74.61041691996103.\u001b[0m\n"
     ]
    },
    {
     "name": "stderr",
     "output_type": "stream",
     "text": [
      "Best trial: 31. Best value: 74.6104:  36%|███████████████▊                            | 43/120 [01:48<04:01,  3.14s/it]"
     ]
    },
    {
     "name": "stdout",
     "output_type": "stream",
     "text": [
      "\u001b[32m[I 2023-03-11 06:21:26,962]\u001b[0m Trial 42 finished with value: 75.24611420876226 and parameters: {'learning_rate': 0.0983037917046037, 'max_depth': 8, 'l1_reg': 3.0059099050316647, 'l2_reg': 9.277087277832996e-05}. Best is trial 31 with value: 74.61041691996103.\u001b[0m\n"
     ]
    },
    {
     "name": "stderr",
     "output_type": "stream",
     "text": [
      "Best trial: 31. Best value: 74.6104:  37%|████████████████▏                           | 44/120 [01:52<04:11,  3.30s/it]"
     ]
    },
    {
     "name": "stdout",
     "output_type": "stream",
     "text": [
      "\u001b[32m[I 2023-03-11 06:21:30,646]\u001b[0m Trial 43 finished with value: 76.18595206796613 and parameters: {'learning_rate': 0.05971279567016179, 'max_depth': 8, 'l1_reg': 2.518227129894659, 'l2_reg': 9.092633463340377e-05}. Best is trial 31 with value: 74.61041691996103.\u001b[0m\n"
     ]
    },
    {
     "name": "stderr",
     "output_type": "stream",
     "text": [
      "Best trial: 31. Best value: 74.6104:  38%|████████████████▌                           | 45/120 [01:55<04:16,  3.43s/it]"
     ]
    },
    {
     "name": "stdout",
     "output_type": "stream",
     "text": [
      "\u001b[32m[I 2023-03-11 06:21:34,355]\u001b[0m Trial 44 finished with value: 98.72297133921445 and parameters: {'learning_rate': 0.01968557827312291, 'max_depth': 8, 'l1_reg': 9.427921340381893, 'l2_reg': 2.9047041394295193e-05}. Best is trial 31 with value: 74.61041691996103.\u001b[0m\n"
     ]
    },
    {
     "name": "stderr",
     "output_type": "stream",
     "text": [
      "Best trial: 31. Best value: 74.6104:  38%|████████████████▊                           | 46/120 [01:59<04:23,  3.56s/it]"
     ]
    },
    {
     "name": "stdout",
     "output_type": "stream",
     "text": [
      "\u001b[32m[I 2023-03-11 06:21:38,219]\u001b[0m Trial 45 finished with value: 76.10288387725696 and parameters: {'learning_rate': 0.06559243871560305, 'max_depth': 8, 'l1_reg': 3.7479800280714044, 'l2_reg': 0.00026996045118122847}. Best is trial 31 with value: 74.61041691996103.\u001b[0m\n"
     ]
    },
    {
     "name": "stderr",
     "output_type": "stream",
     "text": [
      "Best trial: 31. Best value: 74.6104:  39%|█████████████████▏                          | 47/120 [02:01<03:37,  2.98s/it]"
     ]
    },
    {
     "name": "stdout",
     "output_type": "stream",
     "text": [
      "\u001b[32m[I 2023-03-11 06:21:39,840]\u001b[0m Trial 46 finished with value: 77.0018898025478 and parameters: {'learning_rate': 0.2059014563180322, 'max_depth': 8, 'l1_reg': 5.580437586877466, 'l2_reg': 7.382828178187673e-05}. Best is trial 31 with value: 74.61041691996103.\u001b[0m\n"
     ]
    },
    {
     "name": "stderr",
     "output_type": "stream",
     "text": [
      "Best trial: 31. Best value: 74.6104:  40%|█████████████████▌                          | 48/120 [02:05<03:50,  3.20s/it]"
     ]
    },
    {
     "name": "stdout",
     "output_type": "stream",
     "text": [
      "\u001b[32m[I 2023-03-11 06:21:43,579]\u001b[0m Trial 47 finished with value: 78.11632609762954 and parameters: {'learning_rate': 0.04412107822705537, 'max_depth': 8, 'l1_reg': 1.4438686899092796, 'l2_reg': 3.842514204238533e-05}. Best is trial 31 with value: 74.61041691996103.\u001b[0m\n"
     ]
    },
    {
     "name": "stderr",
     "output_type": "stream",
     "text": [
      "Best trial: 31. Best value: 74.6104:  41%|█████████████████▉                          | 49/120 [02:06<03:00,  2.54s/it]"
     ]
    },
    {
     "name": "stdout",
     "output_type": "stream",
     "text": [
      "\u001b[32m[I 2023-03-11 06:21:44,565]\u001b[0m Trial 48 finished with value: 80.20998994256558 and parameters: {'learning_rate': 0.4652094016526649, 'max_depth': 8, 'l1_reg': 1.527460194101953, 'l2_reg': 0.00035960984625460913}. Best is trial 31 with value: 74.61041691996103.\u001b[0m\n"
     ]
    },
    {
     "name": "stderr",
     "output_type": "stream",
     "text": [
      "Best trial: 31. Best value: 74.6104:  42%|██████████████████▎                         | 50/120 [02:09<03:08,  2.70s/it]"
     ]
    },
    {
     "name": "stdout",
     "output_type": "stream",
     "text": [
      "\u001b[32m[I 2023-03-11 06:21:47,637]\u001b[0m Trial 49 finished with value: 75.88245906834148 and parameters: {'learning_rate': 0.1444922508437114, 'max_depth': 7, 'l1_reg': 6.5659045524568285, 'l2_reg': 0.0001765072849492838}. Best is trial 31 with value: 74.61041691996103.\u001b[0m\n"
     ]
    },
    {
     "name": "stderr",
     "output_type": "stream",
     "text": [
      "Best trial: 31. Best value: 74.6104:  42%|██████████████████▋                         | 51/120 [02:11<02:55,  2.54s/it]"
     ]
    },
    {
     "name": "stdout",
     "output_type": "stream",
     "text": [
      "\u001b[32m[I 2023-03-11 06:21:49,819]\u001b[0m Trial 50 finished with value: 97.16747542300669 and parameters: {'learning_rate': 0.03389328534245521, 'max_depth': 5, 'l1_reg': 3.558473719002365, 'l2_reg': 0.00011710874217889749}. Best is trial 31 with value: 74.61041691996103.\u001b[0m\n"
     ]
    },
    {
     "name": "stderr",
     "output_type": "stream",
     "text": [
      "Best trial: 31. Best value: 74.6104:  43%|███████████████████                         | 52/120 [02:14<03:03,  2.69s/it]"
     ]
    },
    {
     "name": "stdout",
     "output_type": "stream",
     "text": [
      "\u001b[32m[I 2023-03-11 06:21:52,860]\u001b[0m Trial 51 finished with value: 76.13308823279651 and parameters: {'learning_rate': 0.10963591938296105, 'max_depth': 7, 'l1_reg': 0.6104349507923356, 'l2_reg': 0.00048245012670693015}. Best is trial 31 with value: 74.61041691996103.\u001b[0m\n"
     ]
    },
    {
     "name": "stderr",
     "output_type": "stream",
     "text": [
      "Best trial: 31. Best value: 74.6104:  44%|███████████████████▍                        | 53/120 [02:17<03:06,  2.78s/it]"
     ]
    },
    {
     "name": "stdout",
     "output_type": "stream",
     "text": [
      "\u001b[32m[I 2023-03-11 06:21:55,844]\u001b[0m Trial 52 finished with value: 75.47488418994666 and parameters: {'learning_rate': 0.17695589969468475, 'max_depth': 8, 'l1_reg': 0.9758501195343154, 'l2_reg': 0.00023336227958404088}. Best is trial 31 with value: 74.61041691996103.\u001b[0m\n"
     ]
    },
    {
     "name": "stderr",
     "output_type": "stream",
     "text": [
      "Best trial: 31. Best value: 74.6104:  45%|███████████████████▊                        | 54/120 [02:18<02:36,  2.38s/it]"
     ]
    },
    {
     "name": "stdout",
     "output_type": "stream",
     "text": [
      "\u001b[32m[I 2023-03-11 06:21:57,281]\u001b[0m Trial 53 finished with value: 77.12882499744542 and parameters: {'learning_rate': 0.21884357416773867, 'max_depth': 8, 'l1_reg': 0.410415315497563, 'l2_reg': 2.1785455092928168e-05}. Best is trial 31 with value: 74.61041691996103.\u001b[0m\n"
     ]
    },
    {
     "name": "stderr",
     "output_type": "stream",
     "text": [
      "Best trial: 31. Best value: 74.6104:  46%|████████████████████▏                       | 55/120 [02:22<02:51,  2.63s/it]"
     ]
    },
    {
     "name": "stdout",
     "output_type": "stream",
     "text": [
      "\u001b[32m[I 2023-03-11 06:22:00,508]\u001b[0m Trial 54 finished with value: 78.65403552191256 and parameters: {'learning_rate': 0.05639683465612571, 'max_depth': 7, 'l1_reg': 2.848351132362686, 'l2_reg': 6.224683552083676e-05}. Best is trial 31 with value: 74.61041691996103.\u001b[0m\n"
     ]
    },
    {
     "name": "stderr",
     "output_type": "stream",
     "text": [
      "Best trial: 31. Best value: 74.6104:  47%|████████████████████▌                       | 56/120 [02:23<02:34,  2.41s/it]"
     ]
    },
    {
     "name": "stdout",
     "output_type": "stream",
     "text": [
      "\u001b[32m[I 2023-03-11 06:22:02,414]\u001b[0m Trial 55 finished with value: 79.96372314268467 and parameters: {'learning_rate': 0.31768040170907486, 'max_depth': 7, 'l1_reg': 6.889601773021601, 'l2_reg': 0.0009237952253267997}. Best is trial 31 with value: 74.61041691996103.\u001b[0m\n"
     ]
    },
    {
     "name": "stderr",
     "output_type": "stream",
     "text": [
      "Best trial: 31. Best value: 74.6104:  48%|████████████████████▉                       | 57/120 [02:27<02:54,  2.77s/it]"
     ]
    },
    {
     "name": "stdout",
     "output_type": "stream",
     "text": [
      "\u001b[32m[I 2023-03-11 06:22:06,000]\u001b[0m Trial 56 finished with value: 75.46774739257496 and parameters: {'learning_rate': 0.09743575453270573, 'max_depth': 8, 'l1_reg': 1.9987042545879963, 'l2_reg': 0.0001561644285812788}. Best is trial 31 with value: 74.61041691996103.\u001b[0m\n"
     ]
    },
    {
     "name": "stderr",
     "output_type": "stream",
     "text": [
      "Best trial: 31. Best value: 74.6104:  48%|█████████████████████▎                      | 58/120 [02:28<02:10,  2.11s/it]"
     ]
    },
    {
     "name": "stdout",
     "output_type": "stream",
     "text": [
      "\u001b[32m[I 2023-03-11 06:22:06,570]\u001b[0m Trial 57 finished with value: 115.26036576253458 and parameters: {'learning_rate': 1.2560719998542604, 'max_depth': 8, 'l1_reg': 9.100186163561771, 'l2_reg': 0.0003651881216059098}. Best is trial 31 with value: 74.61041691996103.\u001b[0m\n"
     ]
    },
    {
     "name": "stderr",
     "output_type": "stream",
     "text": [
      "Best trial: 31. Best value: 74.6104:  49%|█████████████████████▋                      | 59/120 [02:28<01:44,  1.72s/it]"
     ]
    },
    {
     "name": "stdout",
     "output_type": "stream",
     "text": [
      "\u001b[32m[I 2023-03-11 06:22:07,389]\u001b[0m Trial 58 finished with value: 87.48666468534448 and parameters: {'learning_rate': 0.5891054436200064, 'max_depth': 6, 'l1_reg': 1.101525362391419, 'l2_reg': 1.9843431485744693e-05}. Best is trial 31 with value: 74.61041691996103.\u001b[0m\n"
     ]
    },
    {
     "name": "stderr",
     "output_type": "stream",
     "text": [
      "Best trial: 31. Best value: 74.6104:  50%|██████████████████████                      | 60/120 [02:33<02:30,  2.50s/it]"
     ]
    },
    {
     "name": "stdout",
     "output_type": "stream",
     "text": [
      "\u001b[32m[I 2023-03-11 06:22:11,711]\u001b[0m Trial 59 finished with value: 99.29816060735725 and parameters: {'learning_rate': 0.019513165254919872, 'max_depth': 8, 'l1_reg': 3.9222008184352894, 'l2_reg': 3.60210575309585e-05}. Best is trial 31 with value: 74.61041691996103.\u001b[0m\n"
     ]
    },
    {
     "name": "stderr",
     "output_type": "stream",
     "text": [
      "Best trial: 31. Best value: 74.6104:  51%|██████████████████████▎                     | 61/120 [02:34<02:13,  2.27s/it]"
     ]
    },
    {
     "name": "stdout",
     "output_type": "stream",
     "text": [
      "\u001b[32m[I 2023-03-11 06:22:13,436]\u001b[0m Trial 60 finished with value: 77.13533639743379 and parameters: {'learning_rate': 0.23610950587969112, 'max_depth': 7, 'l1_reg': 0.16075274016774882, 'l2_reg': 8.496779869063492e-05}. Best is trial 31 with value: 74.61041691996103.\u001b[0m\n"
     ]
    },
    {
     "name": "stderr",
     "output_type": "stream",
     "text": [
      "Best trial: 31. Best value: 74.6104:  52%|██████████████████████▋                     | 62/120 [02:38<02:26,  2.53s/it]"
     ]
    },
    {
     "name": "stdout",
     "output_type": "stream",
     "text": [
      "\u001b[32m[I 2023-03-11 06:22:16,577]\u001b[0m Trial 61 finished with value: 75.43632828707938 and parameters: {'learning_rate': 0.12075777692825854, 'max_depth': 8, 'l1_reg': 1.973187188994396, 'l2_reg': 0.0001599526937677472}. Best is trial 31 with value: 74.61041691996103.\u001b[0m\n"
     ]
    },
    {
     "name": "stderr",
     "output_type": "stream",
     "text": [
      "Best trial: 31. Best value: 74.6104:  52%|███████████████████████                     | 63/120 [02:41<02:33,  2.70s/it]"
     ]
    },
    {
     "name": "stdout",
     "output_type": "stream",
     "text": [
      "\u001b[32m[I 2023-03-11 06:22:19,673]\u001b[0m Trial 62 finished with value: 75.73264080467418 and parameters: {'learning_rate': 0.10940928272250341, 'max_depth': 8, 'l1_reg': 1.9118293615142956, 'l2_reg': 5.3374376495395374e-05}. Best is trial 31 with value: 74.61041691996103.\u001b[0m\n"
     ]
    },
    {
     "name": "stderr",
     "output_type": "stream",
     "text": [
      "Best trial: 31. Best value: 74.6104:  53%|███████████████████████▍                    | 64/120 [02:45<02:51,  3.06s/it]"
     ]
    },
    {
     "name": "stdout",
     "output_type": "stream",
     "text": [
      "\u001b[32m[I 2023-03-11 06:22:23,559]\u001b[0m Trial 63 finished with value: 77.45734127229977 and parameters: {'learning_rate': 0.04330811941249432, 'max_depth': 8, 'l1_reg': 0.49598295912074664, 'l2_reg': 0.0005272507705542517}. Best is trial 31 with value: 74.61041691996103.\u001b[0m\n"
     ]
    },
    {
     "name": "stderr",
     "output_type": "stream",
     "text": [
      "Best trial: 31. Best value: 74.6104:  54%|███████████████████████▊                    | 65/120 [02:47<02:35,  2.82s/it]"
     ]
    },
    {
     "name": "stdout",
     "output_type": "stream",
     "text": [
      "\u001b[32m[I 2023-03-11 06:22:25,842]\u001b[0m Trial 64 finished with value: 75.46917646959201 and parameters: {'learning_rate': 0.16668917489407867, 'max_depth': 8, 'l1_reg': 0.8646523323958539, 'l2_reg': 0.00017830493991485702}. Best is trial 31 with value: 74.61041691996103.\u001b[0m\n"
     ]
    },
    {
     "name": "stderr",
     "output_type": "stream",
     "text": [
      "Best trial: 31. Best value: 74.6104:  55%|████████████████████████▏                   | 66/120 [02:49<02:18,  2.57s/it]"
     ]
    },
    {
     "name": "stdout",
     "output_type": "stream",
     "text": [
      "\u001b[32m[I 2023-03-11 06:22:27,831]\u001b[0m Trial 65 finished with value: 79.60321800820373 and parameters: {'learning_rate': 0.3636804082835974, 'max_depth': 8, 'l1_reg': 2.769458663210418, 'l2_reg': 0.00012101526338519776}. Best is trial 31 with value: 74.61041691996103.\u001b[0m\n"
     ]
    },
    {
     "name": "stderr",
     "output_type": "stream",
     "text": [
      "Best trial: 31. Best value: 74.6104:  56%|████████████████████████▌                   | 67/120 [02:53<02:34,  2.91s/it]"
     ]
    },
    {
     "name": "stdout",
     "output_type": "stream",
     "text": [
      "\u001b[32m[I 2023-03-11 06:22:31,516]\u001b[0m Trial 66 finished with value: 75.6424309228609 and parameters: {'learning_rate': 0.06584619637140304, 'max_depth': 8, 'l1_reg': 5.611116963174008, 'l2_reg': 0.0011570548632557295}. Best is trial 31 with value: 74.61041691996103.\u001b[0m\n"
     ]
    },
    {
     "name": "stderr",
     "output_type": "stream",
     "text": [
      "Best trial: 31. Best value: 74.6104:  57%|████████████████████████▉                   | 68/120 [02:56<02:34,  2.97s/it]"
     ]
    },
    {
     "name": "stdout",
     "output_type": "stream",
     "text": [
      "\u001b[32m[I 2023-03-11 06:22:34,641]\u001b[0m Trial 67 finished with value: 76.73605416947531 and parameters: {'learning_rate': 0.0939605803098949, 'max_depth': 7, 'l1_reg': 1.3426679461321678, 'l2_reg': 0.0003840816275850674}. Best is trial 31 with value: 74.61041691996103.\u001b[0m\n"
     ]
    },
    {
     "name": "stderr",
     "output_type": "stream",
     "text": [
      "Best trial: 31. Best value: 74.6104:  57%|█████████████████████████▎                  | 69/120 [02:56<01:55,  2.26s/it]"
     ]
    },
    {
     "name": "stdout",
     "output_type": "stream",
     "text": [
      "\u001b[32m[I 2023-03-11 06:22:35,238]\u001b[0m Trial 68 finished with value: 88.25079615573286 and parameters: {'learning_rate': 0.8032908331020044, 'max_depth': 8, 'l1_reg': 9.761101101258294, 'l2_reg': 8.108057777830345e-05}. Best is trial 31 with value: 74.61041691996103.\u001b[0m\n"
     ]
    },
    {
     "name": "stderr",
     "output_type": "stream",
     "text": [
      "Best trial: 31. Best value: 74.6104:  58%|█████████████████████████▋                  | 70/120 [02:58<01:51,  2.23s/it]"
     ]
    },
    {
     "name": "stdout",
     "output_type": "stream",
     "text": [
      "\u001b[32m[I 2023-03-11 06:22:37,410]\u001b[0m Trial 69 finished with value: 101.05478077134013 and parameters: {'learning_rate': 0.029063455553033718, 'max_depth': 5, 'l1_reg': 3.8033813651811617, 'l2_reg': 1.6060840592988423e-05}. Best is trial 31 with value: 74.61041691996103.\u001b[0m\n"
     ]
    },
    {
     "name": "stderr",
     "output_type": "stream",
     "text": [
      "Best trial: 31. Best value: 74.6104:  59%|██████████████████████████                  | 71/120 [03:01<01:48,  2.21s/it]"
     ]
    },
    {
     "name": "stdout",
     "output_type": "stream",
     "text": [
      "\u001b[32m[I 2023-03-11 06:22:39,547]\u001b[0m Trial 70 finished with value: 76.85098228574273 and parameters: {'learning_rate': 0.14555429597454173, 'max_depth': 8, 'l1_reg': 0.71427798724808, 'l2_reg': 0.0002745237681463691}. Best is trial 31 with value: 74.61041691996103.\u001b[0m\n"
     ]
    },
    {
     "name": "stderr",
     "output_type": "stream",
     "text": [
      "Best trial: 31. Best value: 74.6104:  60%|██████████████████████████▍                 | 72/120 [03:04<02:06,  2.64s/it]"
     ]
    },
    {
     "name": "stdout",
     "output_type": "stream",
     "text": [
      "\u001b[32m[I 2023-03-11 06:22:43,203]\u001b[0m Trial 71 finished with value: 75.89459949091332 and parameters: {'learning_rate': 0.08562613545298113, 'max_depth': 8, 'l1_reg': 1.8803749804679704, 'l2_reg': 0.00014886059143412429}. Best is trial 31 with value: 74.61041691996103.\u001b[0m\n"
     ]
    },
    {
     "name": "stderr",
     "output_type": "stream",
     "text": [
      "Best trial: 31. Best value: 74.6104:  61%|██████████████████████████▊                 | 73/120 [03:07<02:09,  2.76s/it]"
     ]
    },
    {
     "name": "stdout",
     "output_type": "stream",
     "text": [
      "\u001b[32m[I 2023-03-11 06:22:46,251]\u001b[0m Trial 72 finished with value: 76.15227657502477 and parameters: {'learning_rate': 0.22253318704166, 'max_depth': 8, 'l1_reg': 1.9158198999299747, 'l2_reg': 4.88336399029404e-05}. Best is trial 31 with value: 74.61041691996103.\u001b[0m\n"
     ]
    },
    {
     "name": "stderr",
     "output_type": "stream",
     "text": [
      "Best trial: 31. Best value: 74.6104:  62%|███████████████████████████▏                | 74/120 [03:11<02:18,  3.00s/it]"
     ]
    },
    {
     "name": "stdout",
     "output_type": "stream",
     "text": [
      "\u001b[32m[I 2023-03-11 06:22:49,813]\u001b[0m Trial 73 finished with value: 75.44846334747885 and parameters: {'learning_rate': 0.11359549007694182, 'max_depth': 8, 'l1_reg': 2.594050300364821, 'l2_reg': 0.000140322830350837}. Best is trial 31 with value: 74.61041691996103.\u001b[0m\n"
     ]
    },
    {
     "name": "stderr",
     "output_type": "stream",
     "text": [
      "Best trial: 31. Best value: 74.6104:  62%|███████████████████████████▌                | 75/120 [03:15<02:24,  3.22s/it]"
     ]
    },
    {
     "name": "stdout",
     "output_type": "stream",
     "text": [
      "\u001b[32m[I 2023-03-11 06:22:53,544]\u001b[0m Trial 74 finished with value: 77.20200157402115 and parameters: {'learning_rate': 0.04940947990115278, 'max_depth': 8, 'l1_reg': 3.4144825262023177, 'l2_reg': 8.004832146494581e-05}. Best is trial 31 with value: 74.61041691996103.\u001b[0m\n"
     ]
    },
    {
     "name": "stderr",
     "output_type": "stream",
     "text": [
      "Best trial: 31. Best value: 74.6104:  63%|███████████████████████████▊                | 76/120 [03:16<01:53,  2.58s/it]"
     ]
    },
    {
     "name": "stdout",
     "output_type": "stream",
     "text": [
      "\u001b[32m[I 2023-03-11 06:22:54,633]\u001b[0m Trial 75 finished with value: 78.36339243538903 and parameters: {'learning_rate': 0.40703286721364157, 'max_depth': 8, 'l1_reg': 6.491810452439837, 'l2_reg': 0.0006417528199742811}. Best is trial 31 with value: 74.61041691996103.\u001b[0m\n"
     ]
    },
    {
     "name": "stderr",
     "output_type": "stream",
     "text": [
      "Best trial: 31. Best value: 74.6104:  64%|████████████████████████████▏               | 77/120 [03:19<02:04,  2.89s/it]"
     ]
    },
    {
     "name": "stdout",
     "output_type": "stream",
     "text": [
      "\u001b[32m[I 2023-03-11 06:22:58,229]\u001b[0m Trial 76 finished with value: 75.33556782052409 and parameters: {'learning_rate': 0.1279845505383676, 'max_depth': 8, 'l1_reg': 1.146099038766432, 'l2_reg': 4.2043575657233664e-05}. Best is trial 31 with value: 74.61041691996103.\u001b[0m\n"
     ]
    },
    {
     "name": "stderr",
     "output_type": "stream",
     "text": [
      "Best trial: 31. Best value: 74.6104:  65%|████████████████████████████▌               | 78/120 [03:23<02:12,  3.15s/it]"
     ]
    },
    {
     "name": "stdout",
     "output_type": "stream",
     "text": [
      "\u001b[32m[I 2023-03-11 06:23:02,000]\u001b[0m Trial 77 finished with value: 87.24280594623647 and parameters: {'learning_rate': 0.02464711687243087, 'max_depth': 8, 'l1_reg': 0.30463688859251364, 'l2_reg': 2.484941068038224e-05}. Best is trial 31 with value: 74.61041691996103.\u001b[0m\n"
     ]
    },
    {
     "name": "stderr",
     "output_type": "stream",
     "text": [
      "Best trial: 31. Best value: 74.6104:  66%|████████████████████████████▉               | 79/120 [03:25<01:52,  2.75s/it]"
     ]
    },
    {
     "name": "stdout",
     "output_type": "stream",
     "text": [
      "\u001b[32m[I 2023-03-11 06:23:03,806]\u001b[0m Trial 78 finished with value: 78.32588679993272 and parameters: {'learning_rate': 0.2683347378380778, 'max_depth': 7, 'l1_reg': 0.9731621941965566, 'l2_reg': 4.905080842918717e-05}. Best is trial 31 with value: 74.61041691996103.\u001b[0m\n"
     ]
    },
    {
     "name": "stderr",
     "output_type": "stream",
     "text": [
      "Best trial: 31. Best value: 74.6104:  67%|█████████████████████████████▎              | 80/120 [03:29<02:01,  3.03s/it]"
     ]
    },
    {
     "name": "stdout",
     "output_type": "stream",
     "text": [
      "\u001b[32m[I 2023-03-11 06:23:07,480]\u001b[0m Trial 79 finished with value: 76.62367737488523 and parameters: {'learning_rate': 0.07147383727070596, 'max_depth': 8, 'l1_reg': 1.227506202113088, 'l2_reg': 1.601701309597722e-05}. Best is trial 31 with value: 74.61041691996103.\u001b[0m\n"
     ]
    },
    {
     "name": "stderr",
     "output_type": "stream",
     "text": [
      "Best trial: 31. Best value: 74.6104:  68%|█████████████████████████████▋              | 81/120 [03:31<01:55,  2.96s/it]"
     ]
    },
    {
     "name": "stdout",
     "output_type": "stream",
     "text": [
      "\u001b[32m[I 2023-03-11 06:23:10,284]\u001b[0m Trial 80 finished with value: 84.22863759166832 and parameters: {'learning_rate': 0.041619144452100305, 'max_depth': 6, 'l1_reg': 4.73460905936273, 'l2_reg': 3.6502616187783324e-05}. Best is trial 31 with value: 74.61041691996103.\u001b[0m\n"
     ]
    },
    {
     "name": "stderr",
     "output_type": "stream",
     "text": [
      "Best trial: 81. Best value: 74.434:  68%|██████████████████████████████▊              | 82/120 [03:35<02:00,  3.16s/it]"
     ]
    },
    {
     "name": "stdout",
     "output_type": "stream",
     "text": [
      "\u001b[32m[I 2023-03-11 06:23:13,909]\u001b[0m Trial 81 finished with value: 74.43404976813486 and parameters: {'learning_rate': 0.13270238959500247, 'max_depth': 8, 'l1_reg': 3.0361338078032114, 'l2_reg': 0.00010638966488047717}. Best is trial 81 with value: 74.43404976813486.\u001b[0m\n"
     ]
    },
    {
     "name": "stderr",
     "output_type": "stream",
     "text": [
      "Best trial: 81. Best value: 74.434:  69%|███████████████████████████████▏             | 83/120 [03:37<01:48,  2.93s/it]"
     ]
    },
    {
     "name": "stdout",
     "output_type": "stream",
     "text": [
      "\u001b[32m[I 2023-03-11 06:23:16,313]\u001b[0m Trial 82 finished with value: 76.75363504529608 and parameters: {'learning_rate': 0.14835072451136092, 'max_depth': 8, 'l1_reg': 7.095044861494797, 'l2_reg': 0.00010599316482482737}. Best is trial 81 with value: 74.43404976813486.\u001b[0m\n"
     ]
    },
    {
     "name": "stderr",
     "output_type": "stream",
     "text": [
      "Best trial: 81. Best value: 74.434:  70%|███████████████████████████████▍             | 84/120 [03:39<01:36,  2.69s/it]"
     ]
    },
    {
     "name": "stdout",
     "output_type": "stream",
     "text": [
      "\u001b[32m[I 2023-03-11 06:23:18,422]\u001b[0m Trial 83 finished with value: 76.71927346359352 and parameters: {'learning_rate': 0.18188521935280788, 'max_depth': 8, 'l1_reg': 3.9399764428389745, 'l2_reg': 0.0002060802184240818}. Best is trial 81 with value: 74.43404976813486.\u001b[0m\n"
     ]
    },
    {
     "name": "stderr",
     "output_type": "stream",
     "text": [
      "Best trial: 81. Best value: 74.434:  71%|███████████████████████████████▉             | 85/120 [03:43<01:42,  2.93s/it]"
     ]
    },
    {
     "name": "stdout",
     "output_type": "stream",
     "text": [
      "\u001b[32m[I 2023-03-11 06:23:21,909]\u001b[0m Trial 84 finished with value: 75.33016911602229 and parameters: {'learning_rate': 0.12278560329345907, 'max_depth': 8, 'l1_reg': 2.7041628459424127, 'l2_reg': 5.913825978610713e-05}. Best is trial 81 with value: 74.43404976813486.\u001b[0m\n"
     ]
    },
    {
     "name": "stderr",
     "output_type": "stream",
     "text": [
      "Best trial: 81. Best value: 74.434:  72%|████████████████████████████████▎            | 86/120 [03:47<01:47,  3.16s/it]"
     ]
    },
    {
     "name": "stdout",
     "output_type": "stream",
     "text": [
      "\u001b[32m[I 2023-03-11 06:23:25,629]\u001b[0m Trial 85 finished with value: 76.30972429252843 and parameters: {'learning_rate': 0.07389500880590481, 'max_depth': 8, 'l1_reg': 2.752405221590117, 'l2_reg': 5.652437949541385e-05}. Best is trial 81 with value: 74.43404976813486.\u001b[0m\n"
     ]
    },
    {
     "name": "stderr",
     "output_type": "stream",
     "text": [
      "Best trial: 81. Best value: 74.434:  72%|████████████████████████████████▋            | 87/120 [03:48<01:26,  2.62s/it]"
     ]
    },
    {
     "name": "stdout",
     "output_type": "stream",
     "text": [
      "\u001b[32m[I 2023-03-11 06:23:26,964]\u001b[0m Trial 86 finished with value: 77.26745854360118 and parameters: {'learning_rate': 0.25951849265970184, 'max_depth': 8, 'l1_reg': 7.464106711955632, 'l2_reg': 3.306709569169118e-05}. Best is trial 81 with value: 74.43404976813486.\u001b[0m\n"
     ]
    },
    {
     "name": "stderr",
     "output_type": "stream",
     "text": [
      "Best trial: 81. Best value: 74.434:  73%|█████████████████████████████████            | 88/120 [03:52<01:35,  2.97s/it]"
     ]
    },
    {
     "name": "stdout",
     "output_type": "stream",
     "text": [
      "\u001b[32m[I 2023-03-11 06:23:30,770]\u001b[0m Trial 87 finished with value: 77.04008906700105 and parameters: {'learning_rate': 0.050109677469662245, 'max_depth': 8, 'l1_reg': 1.3692969717644554, 'l2_reg': 7.488438362675539e-05}. Best is trial 81 with value: 74.43404976813486.\u001b[0m\n"
     ]
    },
    {
     "name": "stderr",
     "output_type": "stream",
     "text": [
      "Best trial: 81. Best value: 74.434:  74%|█████████████████████████████████▍           | 89/120 [03:53<01:15,  2.44s/it]"
     ]
    },
    {
     "name": "stdout",
     "output_type": "stream",
     "text": [
      "\u001b[32m[I 2023-03-11 06:23:31,977]\u001b[0m Trial 88 finished with value: 80.90873188344783 and parameters: {'learning_rate': 0.44471053394395255, 'max_depth': 8, 'l1_reg': 4.848410178988231, 'l2_reg': 0.00010350639735915585}. Best is trial 81 with value: 74.43404976813486.\u001b[0m\n"
     ]
    },
    {
     "name": "stderr",
     "output_type": "stream",
     "text": [
      "Best trial: 81. Best value: 74.434:  75%|█████████████████████████████████▊           | 90/120 [03:56<01:19,  2.64s/it]"
     ]
    },
    {
     "name": "stdout",
     "output_type": "stream",
     "text": [
      "\u001b[32m[I 2023-03-11 06:23:35,076]\u001b[0m Trial 89 finished with value: 76.7603022990605 and parameters: {'learning_rate': 0.08370525058435725, 'max_depth': 7, 'l1_reg': 0.6718829670398225, 'l2_reg': 2.5622077275671972e-05}. Best is trial 81 with value: 74.43404976813486.\u001b[0m\n"
     ]
    },
    {
     "name": "stderr",
     "output_type": "stream",
     "text": [
      "Best trial: 81. Best value: 74.434:  76%|██████████████████████████████████▏          | 91/120 [03:57<01:03,  2.19s/it]"
     ]
    },
    {
     "name": "stdout",
     "output_type": "stream",
     "text": [
      "\u001b[32m[I 2023-03-11 06:23:36,202]\u001b[0m Trial 90 finished with value: 79.03677425407534 and parameters: {'learning_rate': 0.32148470003886864, 'max_depth': 8, 'l1_reg': 4.725563010674262, 'l2_reg': 4.564063528519188e-05}. Best is trial 81 with value: 74.43404976813486.\u001b[0m\n"
     ]
    },
    {
     "name": "stderr",
     "output_type": "stream",
     "text": [
      "Best trial: 81. Best value: 74.434:  77%|██████████████████████████████████▌          | 92/120 [04:01<01:12,  2.59s/it]"
     ]
    },
    {
     "name": "stdout",
     "output_type": "stream",
     "text": [
      "\u001b[32m[I 2023-03-11 06:23:39,738]\u001b[0m Trial 91 finished with value: 75.22398665792707 and parameters: {'learning_rate': 0.12492584680872858, 'max_depth': 8, 'l1_reg': 2.1386204517175385, 'l2_reg': 0.00020601343111936645}. Best is trial 81 with value: 74.43404976813486.\u001b[0m\n"
     ]
    },
    {
     "name": "stderr",
     "output_type": "stream",
     "text": [
      "Best trial: 81. Best value: 74.434:  78%|██████████████████████████████████▉          | 93/120 [04:03<01:03,  2.36s/it]"
     ]
    },
    {
     "name": "stdout",
     "output_type": "stream",
     "text": [
      "\u001b[32m[I 2023-03-11 06:23:41,545]\u001b[0m Trial 92 finished with value: 75.23660120275586 and parameters: {'learning_rate': 0.14311501278536914, 'max_depth': 8, 'l1_reg': 3.095850658010723, 'l2_reg': 0.0002447528116032199}. Best is trial 81 with value: 74.43404976813486.\u001b[0m\n"
     ]
    },
    {
     "name": "stderr",
     "output_type": "stream",
     "text": [
      "Best trial: 81. Best value: 74.434:  78%|███████████████████████████████████▎         | 94/120 [04:05<01:04,  2.49s/it]"
     ]
    },
    {
     "name": "stdout",
     "output_type": "stream",
     "text": [
      "\u001b[32m[I 2023-03-11 06:23:44,350]\u001b[0m Trial 93 finished with value: 76.54817036362859 and parameters: {'learning_rate': 0.12949707540546934, 'max_depth': 8, 'l1_reg': 3.138741497115645, 'l2_reg': 0.00023140122015842247}. Best is trial 81 with value: 74.43404976813486.\u001b[0m\n"
     ]
    },
    {
     "name": "stderr",
     "output_type": "stream",
     "text": [
      "Best trial: 81. Best value: 74.434:  79%|███████████████████████████████████▋         | 95/120 [04:09<01:11,  2.86s/it]"
     ]
    },
    {
     "name": "stdout",
     "output_type": "stream",
     "text": [
      "\u001b[32m[I 2023-03-11 06:23:48,078]\u001b[0m Trial 94 finished with value: 76.24405558493237 and parameters: {'learning_rate': 0.055655095176279853, 'max_depth': 8, 'l1_reg': 6.783585398409462, 'l2_reg': 0.00010340848167790075}. Best is trial 81 with value: 74.43404976813486.\u001b[0m\n"
     ]
    },
    {
     "name": "stderr",
     "output_type": "stream",
     "text": [
      "Best trial: 81. Best value: 74.434:  80%|████████████████████████████████████         | 96/120 [04:12<01:05,  2.74s/it]"
     ]
    },
    {
     "name": "stdout",
     "output_type": "stream",
     "text": [
      "\u001b[32m[I 2023-03-11 06:23:50,544]\u001b[0m Trial 95 finished with value: 75.84917540180655 and parameters: {'learning_rate': 0.19572724778994113, 'max_depth': 8, 'l1_reg': 2.2210782021869115, 'l2_reg': 6.727844971969873e-05}. Best is trial 81 with value: 74.43404976813486.\u001b[0m\n"
     ]
    },
    {
     "name": "stderr",
     "output_type": "stream",
     "text": [
      "Best trial: 81. Best value: 74.434:  81%|████████████████████████████████████▍        | 97/120 [04:15<01:07,  2.92s/it]"
     ]
    },
    {
     "name": "stdout",
     "output_type": "stream",
     "text": [
      "\u001b[32m[I 2023-03-11 06:23:53,877]\u001b[0m Trial 96 finished with value: 74.99684550391903 and parameters: {'learning_rate': 0.09783073059517576, 'max_depth': 8, 'l1_reg': 1.5613072095166274, 'l2_reg': 0.00032257523268005564}. Best is trial 81 with value: 74.43404976813486.\u001b[0m\n"
     ]
    },
    {
     "name": "stderr",
     "output_type": "stream",
     "text": [
      "Best trial: 81. Best value: 74.434:  82%|████████████████████████████████████▊        | 98/120 [04:19<01:09,  3.17s/it]"
     ]
    },
    {
     "name": "stdout",
     "output_type": "stream",
     "text": [
      "\u001b[32m[I 2023-03-11 06:23:57,637]\u001b[0m Trial 97 finished with value: 78.96356679622546 and parameters: {'learning_rate': 0.03743369006203988, 'max_depth': 8, 'l1_reg': 1.5727944741075788, 'l2_reg': 0.0002209891416996633}. Best is trial 81 with value: 74.43404976813486.\u001b[0m\n"
     ]
    },
    {
     "name": "stderr",
     "output_type": "stream",
     "text": [
      "Best trial: 81. Best value: 74.434:  82%|█████████████████████████████████████▏       | 99/120 [04:22<01:10,  3.35s/it]"
     ]
    },
    {
     "name": "stdout",
     "output_type": "stream",
     "text": [
      "\u001b[32m[I 2023-03-11 06:24:01,402]\u001b[0m Trial 98 finished with value: 75.21050820009698 and parameters: {'learning_rate': 0.12712457946840572, 'max_depth': 8, 'l1_reg': 1.0840903533517143, 'l2_reg': 6.950913588280376e-05}. Best is trial 81 with value: 74.43404976813486.\u001b[0m\n"
     ]
    },
    {
     "name": "stderr",
     "output_type": "stream",
     "text": [
      "Best trial: 81. Best value: 74.434:  83%|████████████████████████████████████▋       | 100/120 [04:24<00:58,  2.93s/it]"
     ]
    },
    {
     "name": "stdout",
     "output_type": "stream",
     "text": [
      "\u001b[32m[I 2023-03-11 06:24:03,338]\u001b[0m Trial 99 finished with value: 76.10265810057558 and parameters: {'learning_rate': 0.18403918574595077, 'max_depth': 8, 'l1_reg': 2.8333458132314875, 'l2_reg': 6.907885049493543e-05}. Best is trial 81 with value: 74.43404976813486.\u001b[0m\n"
     ]
    },
    {
     "name": "stderr",
     "output_type": "stream",
     "text": [
      "Best trial: 81. Best value: 74.434:  84%|█████████████████████████████████████       | 101/120 [04:26<00:47,  2.48s/it]"
     ]
    },
    {
     "name": "stdout",
     "output_type": "stream",
     "text": [
      "\u001b[32m[I 2023-03-11 06:24:04,763]\u001b[0m Trial 100 finished with value: 76.26308918002735 and parameters: {'learning_rate': 0.2611447636694019, 'max_depth': 8, 'l1_reg': 8.054526307649361, 'l2_reg': 0.0003067912000101822}. Best is trial 81 with value: 74.43404976813486.\u001b[0m\n"
     ]
    },
    {
     "name": "stderr",
     "output_type": "stream",
     "text": [
      "Best trial: 81. Best value: 74.434:  85%|█████████████████████████████████████▍      | 102/120 [04:29<00:49,  2.78s/it]"
     ]
    },
    {
     "name": "stdout",
     "output_type": "stream",
     "text": [
      "\u001b[32m[I 2023-03-11 06:24:08,238]\u001b[0m Trial 101 finished with value: 75.22110220041606 and parameters: {'learning_rate': 0.12524923629977927, 'max_depth': 8, 'l1_reg': 0.5887929829325268, 'l2_reg': 4.172287946331763e-05}. Best is trial 81 with value: 74.43404976813486.\u001b[0m\n"
     ]
    },
    {
     "name": "stderr",
     "output_type": "stream",
     "text": [
      "Best trial: 81. Best value: 74.434:  86%|█████████████████████████████████████▊      | 103/120 [04:33<00:51,  3.02s/it]"
     ]
    },
    {
     "name": "stdout",
     "output_type": "stream",
     "text": [
      "\u001b[32m[I 2023-03-11 06:24:11,829]\u001b[0m Trial 102 finished with value: 74.67755652022709 and parameters: {'learning_rate': 0.09652704756085465, 'max_depth': 8, 'l1_reg': 1.7585705548768702, 'l2_reg': 0.00013606586389262063}. Best is trial 81 with value: 74.43404976813486.\u001b[0m\n"
     ]
    },
    {
     "name": "stderr",
     "output_type": "stream",
     "text": [
      "Best trial: 81. Best value: 74.434:  87%|██████████████████████████████████████▏     | 104/120 [04:37<00:53,  3.37s/it]"
     ]
    },
    {
     "name": "stdout",
     "output_type": "stream",
     "text": [
      "\u001b[32m[I 2023-03-11 06:24:16,011]\u001b[0m Trial 103 finished with value: 76.279029718922 and parameters: {'learning_rate': 0.0643543511609603, 'max_depth': 8, 'l1_reg': 0.8710807044791068, 'l2_reg': 0.00013835676653333742}. Best is trial 81 with value: 74.43404976813486.\u001b[0m\n"
     ]
    },
    {
     "name": "stderr",
     "output_type": "stream",
     "text": [
      "Best trial: 81. Best value: 74.434:  88%|██████████████████████████████████████▌     | 105/120 [04:41<00:54,  3.65s/it]"
     ]
    },
    {
     "name": "stdout",
     "output_type": "stream",
     "text": [
      "\u001b[32m[I 2023-03-11 06:24:20,311]\u001b[0m Trial 104 finished with value: 75.77895266792093 and parameters: {'learning_rate': 0.08653521194822716, 'max_depth': 8, 'l1_reg': 1.6334128296316537, 'l2_reg': 0.00018809053897407075}. Best is trial 81 with value: 74.43404976813486.\u001b[0m\n"
     ]
    },
    {
     "name": "stderr",
     "output_type": "stream",
     "text": [
      "Best trial: 81. Best value: 74.434:  88%|██████████████████████████████████████▊     | 106/120 [04:45<00:50,  3.61s/it]"
     ]
    },
    {
     "name": "stdout",
     "output_type": "stream",
     "text": [
      "\u001b[32m[I 2023-03-11 06:24:23,835]\u001b[0m Trial 105 finished with value: 75.39694710647474 and parameters: {'learning_rate': 0.09985369957498945, 'max_depth': 8, 'l1_reg': 0.6198348373613132, 'l2_reg': 9.843283908655638e-05}. Best is trial 81 with value: 74.43404976813486.\u001b[0m\n"
     ]
    },
    {
     "name": "stderr",
     "output_type": "stream",
     "text": [
      "Best trial: 81. Best value: 74.434:  89%|███████████████████████████████████████▏    | 107/120 [04:46<00:37,  2.91s/it]"
     ]
    },
    {
     "name": "stdout",
     "output_type": "stream",
     "text": [
      "\u001b[32m[I 2023-03-11 06:24:25,099]\u001b[0m Trial 106 finished with value: 78.47233152437362 and parameters: {'learning_rate': 0.20596779390443304, 'max_depth': 8, 'l1_reg': 3.424418890541575, 'l2_reg': 0.00045943778931922493}. Best is trial 81 with value: 74.43404976813486.\u001b[0m\n"
     ]
    },
    {
     "name": "stderr",
     "output_type": "stream",
     "text": [
      "Best trial: 81. Best value: 74.434:  90%|███████████████████████████████████████▌    | 108/120 [04:50<00:38,  3.17s/it]"
     ]
    },
    {
     "name": "stdout",
     "output_type": "stream",
     "text": [
      "\u001b[32m[I 2023-03-11 06:24:28,891]\u001b[0m Trial 107 finished with value: 79.9810411448436 and parameters: {'learning_rate': 0.033612760817232266, 'max_depth': 8, 'l1_reg': 1.0818513057705108, 'l2_reg': 3.032036389940991e-05}. Best is trial 81 with value: 74.43404976813486.\u001b[0m\n"
     ]
    },
    {
     "name": "stderr",
     "output_type": "stream",
     "text": [
      "Best trial: 81. Best value: 74.434:  91%|███████████████████████████████████████▉    | 109/120 [04:52<00:30,  2.74s/it]"
     ]
    },
    {
     "name": "stdout",
     "output_type": "stream",
     "text": [
      "\u001b[32m[I 2023-03-11 06:24:30,631]\u001b[0m Trial 108 finished with value: 88.57063995801724 and parameters: {'learning_rate': 0.15287062810189406, 'max_depth': 4, 'l1_reg': 2.157860759364802, 'l2_reg': 0.0001297307024485577}. Best is trial 81 with value: 74.43404976813486.\u001b[0m\n"
     ]
    },
    {
     "name": "stderr",
     "output_type": "stream",
     "text": [
      "Best trial: 81. Best value: 74.434:  92%|████████████████████████████████████████▎   | 110/120 [04:55<00:30,  3.04s/it]"
     ]
    },
    {
     "name": "stdout",
     "output_type": "stream",
     "text": [
      "\u001b[32m[I 2023-03-11 06:24:34,367]\u001b[0m Trial 109 finished with value: 76.32209985414913 and parameters: {'learning_rate': 0.05717164291194163, 'max_depth': 8, 'l1_reg': 0.4514191396646573, 'l2_reg': 8.609584227502216e-05}. Best is trial 81 with value: 74.43404976813486.\u001b[0m\n"
     ]
    },
    {
     "name": "stderr",
     "output_type": "stream",
     "text": [
      "Best trial: 81. Best value: 74.434:  92%|████████████████████████████████████████▋   | 111/120 [04:56<00:21,  2.42s/it]"
     ]
    },
    {
     "name": "stdout",
     "output_type": "stream",
     "text": [
      "\u001b[32m[I 2023-03-11 06:24:35,335]\u001b[0m Trial 110 finished with value: 81.13879318656028 and parameters: {'learning_rate': 0.49657614954660845, 'max_depth': 8, 'l1_reg': 5.60646656487573, 'l2_reg': 0.0003546403536846296}. Best is trial 81 with value: 74.43404976813486.\u001b[0m\n"
     ]
    },
    {
     "name": "stderr",
     "output_type": "stream",
     "text": [
      "Best trial: 81. Best value: 74.434:  93%|█████████████████████████████████████████   | 112/120 [05:00<00:22,  2.76s/it]"
     ]
    },
    {
     "name": "stdout",
     "output_type": "stream",
     "text": [
      "\u001b[32m[I 2023-03-11 06:24:38,880]\u001b[0m Trial 111 finished with value: 75.45362020821588 and parameters: {'learning_rate': 0.11563831060820687, 'max_depth': 8, 'l1_reg': 3.7703341180165344, 'l2_reg': 4.7076436480430786e-05}. Best is trial 81 with value: 74.43404976813486.\u001b[0m\n"
     ]
    },
    {
     "name": "stderr",
     "output_type": "stream",
     "text": [
      "Best trial: 81. Best value: 74.434:  94%|█████████████████████████████████████████▍  | 113/120 [05:04<00:21,  3.02s/it]"
     ]
    },
    {
     "name": "stdout",
     "output_type": "stream",
     "text": [
      "\u001b[32m[I 2023-03-11 06:24:42,514]\u001b[0m Trial 112 finished with value: 75.80508462471566 and parameters: {'learning_rate': 0.07532265252497833, 'max_depth': 8, 'l1_reg': 2.3320561176092474, 'l2_reg': 5.765441731067747e-05}. Best is trial 81 with value: 74.43404976813486.\u001b[0m\n"
     ]
    },
    {
     "name": "stderr",
     "output_type": "stream",
     "text": [
      "Best trial: 81. Best value: 74.434:  95%|█████████████████████████████████████████▊  | 114/120 [05:07<00:19,  3.18s/it]"
     ]
    },
    {
     "name": "stdout",
     "output_type": "stream",
     "text": [
      "\u001b[32m[I 2023-03-11 06:24:46,072]\u001b[0m Trial 113 finished with value: 76.1759406010717 and parameters: {'learning_rate': 0.1179129804253628, 'max_depth': 8, 'l1_reg': 1.5765621356712536, 'l2_reg': 6.85752147207906e-05}. Best is trial 81 with value: 74.43404976813486.\u001b[0m\n"
     ]
    },
    {
     "name": "stderr",
     "output_type": "stream",
     "text": [
      "Best trial: 81. Best value: 74.434:  96%|██████████████████████████████████████████▏ | 115/120 [05:08<00:12,  2.59s/it]"
     ]
    },
    {
     "name": "stdout",
     "output_type": "stream",
     "text": [
      "\u001b[32m[I 2023-03-11 06:24:47,292]\u001b[0m Trial 114 finished with value: 78.21747567781954 and parameters: {'learning_rate': 0.3485416162721351, 'max_depth': 8, 'l1_reg': 2.902608440171011, 'l2_reg': 0.00012056081853974396}. Best is trial 81 with value: 74.43404976813486.\u001b[0m\n"
     ]
    },
    {
     "name": "stderr",
     "output_type": "stream",
     "text": [
      "Best trial: 81. Best value: 74.434:  97%|██████████████████████████████████████████▌ | 116/120 [05:10<00:08,  2.24s/it]"
     ]
    },
    {
     "name": "stdout",
     "output_type": "stream",
     "text": [
      "\u001b[32m[I 2023-03-11 06:24:48,720]\u001b[0m Trial 115 finished with value: 77.99915061302642 and parameters: {'learning_rate': 0.17623765655898604, 'max_depth': 8, 'l1_reg': 1.1947331498663738, 'l2_reg': 3.7061499571286956e-05}. Best is trial 81 with value: 74.43404976813486.\u001b[0m\n"
     ]
    },
    {
     "name": "stderr",
     "output_type": "stream",
     "text": [
      "Best trial: 81. Best value: 74.434:  98%|██████████████████████████████████████████▉ | 117/120 [05:12<00:06,  2.27s/it]"
     ]
    },
    {
     "name": "stdout",
     "output_type": "stream",
     "text": [
      "\u001b[32m[I 2023-03-11 06:24:51,052]\u001b[0m Trial 116 finished with value: 76.0487910611668 and parameters: {'learning_rate': 0.09665342755464676, 'max_depth': 8, 'l1_reg': 4.371099447848033, 'l2_reg': 2.0339364082568608e-05}. Best is trial 81 with value: 74.43404976813486.\u001b[0m\n"
     ]
    },
    {
     "name": "stderr",
     "output_type": "stream",
     "text": [
      "Best trial: 81. Best value: 74.434:  98%|███████████████████████████████████████████▎| 118/120 [05:14<00:04,  2.05s/it]"
     ]
    },
    {
     "name": "stdout",
     "output_type": "stream",
     "text": [
      "\u001b[32m[I 2023-03-11 06:24:52,597]\u001b[0m Trial 117 finished with value: 76.08941760422344 and parameters: {'learning_rate': 0.27163015706828, 'max_depth': 8, 'l1_reg': 9.897630073067097, 'l2_reg': 0.00018816203823786136}. Best is trial 81 with value: 74.43404976813486.\u001b[0m\n"
     ]
    },
    {
     "name": "stderr",
     "output_type": "stream",
     "text": [
      "Best trial: 81. Best value: 74.434:  99%|███████████████████████████████████████████▋| 119/120 [05:17<00:02,  2.56s/it]"
     ]
    },
    {
     "name": "stdout",
     "output_type": "stream",
     "text": [
      "\u001b[32m[I 2023-03-11 06:24:56,338]\u001b[0m Trial 118 finished with value: 77.25986568243492 and parameters: {'learning_rate': 0.04616892457991944, 'max_depth': 8, 'l1_reg': 0.7581570041398039, 'l2_reg': 0.0002574593071725132}. Best is trial 81 with value: 74.43404976813486.\u001b[0m\n"
     ]
    },
    {
     "name": "stderr",
     "output_type": "stream",
     "text": [
      "Best trial: 81. Best value: 74.434: 100%|████████████████████████████████████████████| 120/120 [05:21<00:00,  2.68s/it]"
     ]
    },
    {
     "name": "stdout",
     "output_type": "stream",
     "text": [
      "\u001b[32m[I 2023-03-11 06:25:00,140]\u001b[0m Trial 119 finished with value: 85.6054425284863 and parameters: {'learning_rate': 0.026078479052923022, 'max_depth': 8, 'l1_reg': 1.6685324804951336, 'l2_reg': 8.963564807814304e-05}. Best is trial 81 with value: 74.43404976813486.\u001b[0m\n"
     ]
    },
    {
     "name": "stderr",
     "output_type": "stream",
     "text": [
      "\n"
     ]
    }
   ],
   "source": [
    "study=optuna.create_study()\n",
    "study.optimize(optuna_objective,n_trials=120,show_progress_bar=True)"
   ]
  },
  {
   "cell_type": "code",
   "execution_count": 68,
   "id": "58df3efa",
   "metadata": {},
   "outputs": [],
   "source": [
    "best_parameters=study.best_params"
   ]
  },
  {
   "cell_type": "code",
   "execution_count": 69,
   "id": "4495be89",
   "metadata": {},
   "outputs": [
    {
     "data": {
      "text/plain": [
       "{'learning_rate': 0.13270238959500247,\n",
       " 'max_depth': 8,\n",
       " 'l1_reg': 3.0361338078032114,\n",
       " 'l2_reg': 0.00010638966488047717}"
      ]
     },
     "execution_count": 69,
     "metadata": {},
     "output_type": "execute_result"
    }
   ],
   "source": [
    "best_parameters"
   ]
  },
  {
   "cell_type": "code",
   "execution_count": 70,
   "id": "2f54a5bc",
   "metadata": {},
   "outputs": [
    {
     "name": "stdout",
     "output_type": "stream",
     "text": [
      "[06:29:15] WARNING: C:/buildkite-agent/builds/buildkite-windows-cpu-autoscaling-group-i-0fc7796c793e6356f-1/xgboost/xgboost-ci-windows/src/learner.cc:767: \n",
      "Parameters: { \"l1_reg\", \"l2_reg\" } are not used.\n",
      "\n",
      "[0]\ttrain-rmse:332.54634\tevals-rmse:330.90083\n",
      "[1]\ttrain-rmse:293.02819\tevals-rmse:291.65454\n",
      "[2]\ttrain-rmse:259.13428\tevals-rmse:258.07829\n",
      "[3]\ttrain-rmse:230.05055\tevals-rmse:229.16060\n",
      "[4]\ttrain-rmse:205.02773\tevals-rmse:204.32791\n",
      "[5]\ttrain-rmse:183.46610\tevals-rmse:182.95693\n",
      "[6]\ttrain-rmse:165.08805\tevals-rmse:165.18868\n",
      "[7]\ttrain-rmse:149.51449\tevals-rmse:150.17125\n",
      "[8]\ttrain-rmse:136.29278\tevals-rmse:137.54469\n",
      "[9]\ttrain-rmse:124.76247\tevals-rmse:126.82642\n",
      "[10]\ttrain-rmse:115.36404\tevals-rmse:118.21530\n",
      "[11]\ttrain-rmse:107.25696\tevals-rmse:111.09596\n",
      "[12]\ttrain-rmse:100.62284\tevals-rmse:105.18209\n",
      "[13]\ttrain-rmse:94.70202\tevals-rmse:100.06774\n",
      "[14]\ttrain-rmse:89.97935\tevals-rmse:96.12188\n",
      "[15]\ttrain-rmse:85.98321\tevals-rmse:92.87527\n",
      "[16]\ttrain-rmse:82.61844\tevals-rmse:90.30803\n",
      "[17]\ttrain-rmse:79.78447\tevals-rmse:88.38272\n",
      "[18]\ttrain-rmse:77.16351\tevals-rmse:86.49160\n",
      "[19]\ttrain-rmse:74.91201\tevals-rmse:84.83494\n",
      "[20]\ttrain-rmse:72.71328\tevals-rmse:83.59249\n",
      "[21]\ttrain-rmse:70.88810\tevals-rmse:82.47154\n",
      "[22]\ttrain-rmse:68.98042\tevals-rmse:81.67811\n",
      "[23]\ttrain-rmse:67.47659\tevals-rmse:80.84561\n",
      "[24]\ttrain-rmse:66.10575\tevals-rmse:80.24068\n",
      "[25]\ttrain-rmse:64.97975\tevals-rmse:79.82279\n",
      "[26]\ttrain-rmse:63.93375\tevals-rmse:79.54481\n",
      "[27]\ttrain-rmse:62.97460\tevals-rmse:79.26755\n",
      "[28]\ttrain-rmse:61.77384\tevals-rmse:78.87347\n",
      "[29]\ttrain-rmse:60.74693\tevals-rmse:78.42676\n",
      "[30]\ttrain-rmse:60.19522\tevals-rmse:78.22182\n",
      "[31]\ttrain-rmse:59.17833\tevals-rmse:77.94825\n",
      "[32]\ttrain-rmse:58.22412\tevals-rmse:77.76610\n",
      "[33]\ttrain-rmse:57.45547\tevals-rmse:77.50700\n",
      "[34]\ttrain-rmse:56.54566\tevals-rmse:77.43054\n",
      "[35]\ttrain-rmse:55.87103\tevals-rmse:77.40984\n",
      "[36]\ttrain-rmse:55.32828\tevals-rmse:77.49526\n",
      "[37]\ttrain-rmse:54.55821\tevals-rmse:77.41168\n",
      "[38]\ttrain-rmse:54.29071\tevals-rmse:77.46730\n",
      "[39]\ttrain-rmse:54.08060\tevals-rmse:77.34981\n",
      "[40]\ttrain-rmse:53.66101\tevals-rmse:77.37016\n",
      "[41]\ttrain-rmse:53.09227\tevals-rmse:77.17537\n",
      "[42]\ttrain-rmse:52.86402\tevals-rmse:77.15989\n",
      "[43]\ttrain-rmse:52.50395\tevals-rmse:77.03745\n",
      "[44]\ttrain-rmse:52.35468\tevals-rmse:76.91910\n",
      "[45]\ttrain-rmse:52.17041\tevals-rmse:76.81950\n",
      "[46]\ttrain-rmse:52.04158\tevals-rmse:76.76678\n",
      "[47]\ttrain-rmse:51.71927\tevals-rmse:76.71572\n",
      "[48]\ttrain-rmse:51.52712\tevals-rmse:76.68251\n",
      "[49]\ttrain-rmse:51.17471\tevals-rmse:76.61221\n",
      "[50]\ttrain-rmse:51.01129\tevals-rmse:76.61943\n",
      "[51]\ttrain-rmse:50.67308\tevals-rmse:76.51657\n",
      "[52]\ttrain-rmse:50.55730\tevals-rmse:76.55521\n",
      "[53]\ttrain-rmse:50.31364\tevals-rmse:76.56660\n",
      "[54]\ttrain-rmse:50.09201\tevals-rmse:76.49590\n",
      "[55]\ttrain-rmse:49.69749\tevals-rmse:76.49887\n",
      "[56]\ttrain-rmse:49.34475\tevals-rmse:76.44958\n",
      "[57]\ttrain-rmse:48.60381\tevals-rmse:76.27161\n",
      "[58]\ttrain-rmse:48.20111\tevals-rmse:76.08523\n",
      "[59]\ttrain-rmse:48.05856\tevals-rmse:76.09620\n",
      "[60]\ttrain-rmse:47.86536\tevals-rmse:76.04974\n",
      "[61]\ttrain-rmse:47.47997\tevals-rmse:75.93232\n",
      "[62]\ttrain-rmse:47.27493\tevals-rmse:75.93737\n",
      "[63]\ttrain-rmse:47.03127\tevals-rmse:75.92878\n",
      "[64]\ttrain-rmse:46.95007\tevals-rmse:75.88991\n",
      "[65]\ttrain-rmse:46.69379\tevals-rmse:75.87920\n",
      "[66]\ttrain-rmse:46.48398\tevals-rmse:75.86200\n",
      "[67]\ttrain-rmse:46.37409\tevals-rmse:75.79903\n",
      "[68]\ttrain-rmse:46.18280\tevals-rmse:75.85199\n",
      "[69]\ttrain-rmse:46.04197\tevals-rmse:75.82185\n",
      "[70]\ttrain-rmse:45.97180\tevals-rmse:75.75404\n",
      "[71]\ttrain-rmse:45.57899\tevals-rmse:75.70050\n",
      "[72]\ttrain-rmse:45.54611\tevals-rmse:75.70688\n",
      "[73]\ttrain-rmse:45.25654\tevals-rmse:75.66766\n",
      "[74]\ttrain-rmse:45.00910\tevals-rmse:75.68489\n",
      "[75]\ttrain-rmse:44.96972\tevals-rmse:75.66776\n",
      "[76]\ttrain-rmse:44.87826\tevals-rmse:75.67497\n",
      "[77]\ttrain-rmse:44.43407\tevals-rmse:75.53932\n",
      "[78]\ttrain-rmse:44.27026\tevals-rmse:75.54482\n",
      "[79]\ttrain-rmse:44.15830\tevals-rmse:75.51217\n",
      "[80]\ttrain-rmse:44.03335\tevals-rmse:75.49360\n",
      "[81]\ttrain-rmse:44.00229\tevals-rmse:75.45183\n",
      "[82]\ttrain-rmse:43.95622\tevals-rmse:75.45497\n",
      "[83]\ttrain-rmse:43.66717\tevals-rmse:75.41274\n",
      "[84]\ttrain-rmse:43.12430\tevals-rmse:75.37401\n",
      "[85]\ttrain-rmse:43.02229\tevals-rmse:75.37672\n",
      "[86]\ttrain-rmse:42.95667\tevals-rmse:75.35814\n",
      "[87]\ttrain-rmse:42.72283\tevals-rmse:75.33671\n",
      "[88]\ttrain-rmse:42.36537\tevals-rmse:75.32047\n",
      "[89]\ttrain-rmse:42.30494\tevals-rmse:75.32629\n",
      "[90]\ttrain-rmse:42.02122\tevals-rmse:75.31423\n",
      "[91]\ttrain-rmse:41.86817\tevals-rmse:75.31052\n",
      "[92]\ttrain-rmse:41.56813\tevals-rmse:75.23608\n",
      "[93]\ttrain-rmse:41.52288\tevals-rmse:75.25027\n",
      "[94]\ttrain-rmse:41.24178\tevals-rmse:75.18037\n",
      "[95]\ttrain-rmse:41.17886\tevals-rmse:75.20309\n",
      "[96]\ttrain-rmse:41.01176\tevals-rmse:75.20306\n",
      "[97]\ttrain-rmse:40.76542\tevals-rmse:75.19908\n",
      "[98]\ttrain-rmse:40.54720\tevals-rmse:75.11890\n",
      "[99]\ttrain-rmse:40.51915\tevals-rmse:75.13925\n",
      "[100]\ttrain-rmse:40.48217\tevals-rmse:75.15090\n",
      "[101]\ttrain-rmse:40.31432\tevals-rmse:75.20985\n",
      "[102]\ttrain-rmse:40.20035\tevals-rmse:75.15551\n",
      "[103]\ttrain-rmse:40.12332\tevals-rmse:75.14447\n",
      "[104]\ttrain-rmse:40.09610\tevals-rmse:75.14819\n",
      "[105]\ttrain-rmse:39.84684\tevals-rmse:75.13622\n",
      "[106]\ttrain-rmse:39.78994\tevals-rmse:75.12293\n",
      "[107]\ttrain-rmse:39.56559\tevals-rmse:75.11748\n",
      "[108]\ttrain-rmse:39.42851\tevals-rmse:75.09490\n",
      "[109]\ttrain-rmse:39.25120\tevals-rmse:75.05282\n",
      "[110]\ttrain-rmse:39.22765\tevals-rmse:75.06120\n",
      "[111]\ttrain-rmse:39.16882\tevals-rmse:75.04583\n",
      "[112]\ttrain-rmse:38.86886\tevals-rmse:75.03627\n",
      "[113]\ttrain-rmse:38.63091\tevals-rmse:75.05002\n",
      "[114]\ttrain-rmse:38.60045\tevals-rmse:75.06182\n",
      "[115]\ttrain-rmse:38.27477\tevals-rmse:75.02660\n",
      "[116]\ttrain-rmse:38.14857\tevals-rmse:75.02572\n",
      "[117]\ttrain-rmse:38.10684\tevals-rmse:75.01832\n",
      "[118]\ttrain-rmse:37.72741\tevals-rmse:75.06140\n",
      "[119]\ttrain-rmse:37.49492\tevals-rmse:75.06354\n",
      "[120]\ttrain-rmse:37.46195\tevals-rmse:75.10163\n",
      "[121]\ttrain-rmse:37.16906\tevals-rmse:75.06335\n",
      "[122]\ttrain-rmse:36.96668\tevals-rmse:75.04730\n",
      "[123]\ttrain-rmse:36.81635\tevals-rmse:75.05455\n",
      "[124]\ttrain-rmse:36.67750\tevals-rmse:75.03180\n",
      "[125]\ttrain-rmse:36.31179\tevals-rmse:75.04450\n",
      "[126]\ttrain-rmse:36.10975\tevals-rmse:75.02654\n"
     ]
    }
   ],
   "source": [
    "\n",
    "model=xgb.train(best_parameters,dtrain,num_boost_round=10000,evals=[(dtrain,'train'),(dval,'evals')],early_stopping_rounds=10,\n",
    "                callbacks=[TensorBoardCallback(experiment='exp_3', data_name='Validation')])\n",
    "\n",
    "#model=xgb.train(best_parameters,dtrain,num_boost_round=10000,evals=[(dtrain,'train'),(dval,'evals')],early_stopping_rounds=10,\n",
    "                #callbacks=[tb_callback])"
   ]
  },
  {
   "cell_type": "markdown",
   "id": "5fe099cd",
   "metadata": {},
   "source": [
    "# Results"
   ]
  },
  {
   "cell_type": "code",
   "execution_count": 36,
   "id": "fccf09d5",
   "metadata": {},
   "outputs": [
    {
     "data": {
      "text/plain": [
       "22107     675.86\n",
       "3780     1286.85\n",
       "13651       1.23\n",
       "30473       4.43\n",
       "9084        1.22\n",
       "          ...   \n",
       "30536       1.28\n",
       "14613       5.62\n",
       "3288       18.25\n",
       "29353       1.27\n",
       "8074       73.52\n",
       "Name: Radiation, Length: 9806, dtype: float64"
      ]
     },
     "execution_count": 36,
     "metadata": {},
     "output_type": "execute_result"
    }
   ],
   "source": [
    "y_test"
   ]
  },
  {
   "cell_type": "code",
   "execution_count": 71,
   "id": "17e9c614",
   "metadata": {},
   "outputs": [],
   "source": [
    "y_true=np.array(y_test,dtype=np.float64)\n",
    "y_pred=np.array(model.predict(dtest),dtype=np.float64)"
   ]
  },
  {
   "cell_type": "code",
   "execution_count": 60,
   "id": "bcbd6ac7",
   "metadata": {},
   "outputs": [
    {
     "data": {
      "text/plain": [
       "array([6.75860e+02, 1.28685e+03, 1.23000e+00, ..., 1.82500e+01,\n",
       "       1.27000e+00, 7.35200e+01])"
      ]
     },
     "execution_count": 60,
     "metadata": {},
     "output_type": "execute_result"
    }
   ],
   "source": [
    "y_true"
   ]
  },
  {
   "cell_type": "code",
   "execution_count": 61,
   "id": "317670f1",
   "metadata": {},
   "outputs": [
    {
     "data": {
      "text/plain": [
       "array([ 608.94445801, 1047.39562988,    2.0612011 , ...,   22.53059196,\n",
       "          1.80770397,   68.5411911 ])"
      ]
     },
     "execution_count": 61,
     "metadata": {},
     "output_type": "execute_result"
    }
   ],
   "source": [
    "y_pred"
   ]
  },
  {
   "cell_type": "code",
   "execution_count": 72,
   "id": "93b5b528",
   "metadata": {},
   "outputs": [
    {
     "name": "stdout",
     "output_type": "stream",
     "text": [
      "r2 score:0.93\n"
     ]
    }
   ],
   "source": [
    "r2=r2_score(y_true,y_pred)\n",
    "print(\"r2 score:{:.2f}\".format(r2))"
   ]
  },
  {
   "cell_type": "code",
   "execution_count": 64,
   "id": "2af967e0",
   "metadata": {},
   "outputs": [],
   "source": [
    "dataframe=pd.DataFrame(y_true,columns=['Test Value'])\n",
    "dataframe['Predicted value']=pd.DataFrame(y_pred,columns=['Predicted value'])"
   ]
  },
  {
   "cell_type": "code",
   "execution_count": 65,
   "id": "2e98612a",
   "metadata": {},
   "outputs": [
    {
     "data": {
      "text/html": [
       "<div>\n",
       "<style scoped>\n",
       "    .dataframe tbody tr th:only-of-type {\n",
       "        vertical-align: middle;\n",
       "    }\n",
       "\n",
       "    .dataframe tbody tr th {\n",
       "        vertical-align: top;\n",
       "    }\n",
       "\n",
       "    .dataframe thead th {\n",
       "        text-align: right;\n",
       "    }\n",
       "</style>\n",
       "<table border=\"1\" class=\"dataframe\">\n",
       "  <thead>\n",
       "    <tr style=\"text-align: right;\">\n",
       "      <th></th>\n",
       "      <th>Test Value</th>\n",
       "      <th>Predicted value</th>\n",
       "    </tr>\n",
       "  </thead>\n",
       "  <tbody>\n",
       "    <tr>\n",
       "      <th>0</th>\n",
       "      <td>675.86</td>\n",
       "      <td>608.944458</td>\n",
       "    </tr>\n",
       "    <tr>\n",
       "      <th>1</th>\n",
       "      <td>1286.85</td>\n",
       "      <td>1047.395630</td>\n",
       "    </tr>\n",
       "    <tr>\n",
       "      <th>2</th>\n",
       "      <td>1.23</td>\n",
       "      <td>2.061201</td>\n",
       "    </tr>\n",
       "    <tr>\n",
       "      <th>3</th>\n",
       "      <td>4.43</td>\n",
       "      <td>3.795268</td>\n",
       "    </tr>\n",
       "    <tr>\n",
       "      <th>4</th>\n",
       "      <td>1.22</td>\n",
       "      <td>1.370586</td>\n",
       "    </tr>\n",
       "    <tr>\n",
       "      <th>...</th>\n",
       "      <td>...</td>\n",
       "      <td>...</td>\n",
       "    </tr>\n",
       "    <tr>\n",
       "      <th>9801</th>\n",
       "      <td>1.28</td>\n",
       "      <td>-0.944647</td>\n",
       "    </tr>\n",
       "    <tr>\n",
       "      <th>9802</th>\n",
       "      <td>5.62</td>\n",
       "      <td>7.817568</td>\n",
       "    </tr>\n",
       "    <tr>\n",
       "      <th>9803</th>\n",
       "      <td>18.25</td>\n",
       "      <td>22.530592</td>\n",
       "    </tr>\n",
       "    <tr>\n",
       "      <th>9804</th>\n",
       "      <td>1.27</td>\n",
       "      <td>1.807704</td>\n",
       "    </tr>\n",
       "    <tr>\n",
       "      <th>9805</th>\n",
       "      <td>73.52</td>\n",
       "      <td>68.541191</td>\n",
       "    </tr>\n",
       "  </tbody>\n",
       "</table>\n",
       "<p>9806 rows × 2 columns</p>\n",
       "</div>"
      ],
      "text/plain": [
       "      Test Value  Predicted value\n",
       "0         675.86       608.944458\n",
       "1        1286.85      1047.395630\n",
       "2           1.23         2.061201\n",
       "3           4.43         3.795268\n",
       "4           1.22         1.370586\n",
       "...          ...              ...\n",
       "9801        1.28        -0.944647\n",
       "9802        5.62         7.817568\n",
       "9803       18.25        22.530592\n",
       "9804        1.27         1.807704\n",
       "9805       73.52        68.541191\n",
       "\n",
       "[9806 rows x 2 columns]"
      ]
     },
     "execution_count": 65,
     "metadata": {},
     "output_type": "execute_result"
    }
   ],
   "source": [
    "dataframe"
   ]
  },
  {
   "cell_type": "code",
   "execution_count": null,
   "id": "8f6716c4",
   "metadata": {},
   "outputs": [],
   "source": []
  }
 ],
 "metadata": {
  "kernelspec": {
   "display_name": "tune",
   "language": "python",
   "name": "tune"
  },
  "language_info": {
   "codemirror_mode": {
    "name": "ipython",
    "version": 3
   },
   "file_extension": ".py",
   "mimetype": "text/x-python",
   "name": "python",
   "nbconvert_exporter": "python",
   "pygments_lexer": "ipython3",
   "version": "3.9.2"
  }
 },
 "nbformat": 4,
 "nbformat_minor": 5
}
